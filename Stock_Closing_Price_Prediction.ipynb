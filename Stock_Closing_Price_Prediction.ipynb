{
  "cells": [
    {
      "cell_type": "markdown",
      "source": [
        "Tools & Libraries used are TensorFlow2, Keras, Matplotlib, Numpy, Pandas, Google colab"
      ],
      "metadata": {
        "id": "GCNOceUhGkm5"
      }
    },
    {
      "cell_type": "markdown",
      "source": [
        "# Environment setup"
      ],
      "metadata": {
        "id": "0XbgPkvcFYQn"
      }
    },
    {
      "cell_type": "code",
      "execution_count": 126,
      "metadata": {
        "colab": {
          "base_uri": "https://localhost:8080/"
        },
        "id": "5DNM9ii-esAq",
        "outputId": "3a180c95-1d67-4807-cac7-5011213523d4"
      },
      "outputs": [
        {
          "output_type": "stream",
          "name": "stdout",
          "text": [
            "Drive already mounted at /content/drive; to attempt to forcibly remount, call drive.mount(\"/content/drive\", force_remount=True).\n"
          ]
        }
      ],
      "source": [
        "from google.colab import drive\n",
        "drive.mount('/content/drive')"
      ]
    },
    {
      "cell_type": "code",
      "execution_count": 127,
      "metadata": {
        "id": "e4MSUDjseN9y"
      },
      "outputs": [],
      "source": [
        "# %cd <path to working folder>"
      ]
    },
    {
      "cell_type": "code",
      "source": [
        "import warnings\n",
        "warnings.filterwarnings('ignore')"
      ],
      "metadata": {
        "id": "MfflLeC4K7uC"
      },
      "execution_count": 129,
      "outputs": []
    },
    {
      "cell_type": "markdown",
      "source": [
        "# 1. Importing Modules :"
      ],
      "metadata": {
        "id": "o3V1NjuWHl6A"
      }
    },
    {
      "cell_type": "code",
      "source": [
        "import numpy as np\n",
        "import pandas as pd\n",
        "from matplotlib import pyplot as plt"
      ],
      "metadata": {
        "id": "0QpwfDjLHroX"
      },
      "execution_count": 130,
      "outputs": []
    },
    {
      "cell_type": "markdown",
      "source": [
        "# 2. Loading the Dataset :\n",
        "Here, `header=0` indicates the line which could be used as the header of the data loaded from the specified csv file"
      ],
      "metadata": {
        "id": "cJo9wh6fHsb5"
      }
    },
    {
      "cell_type": "code",
      "source": [
        "df = pd.read_csv('prices.csv', header = 0)\n",
        "print(df.shape)\n",
        "df.head()"
      ],
      "metadata": {
        "colab": {
          "base_uri": "https://localhost:8080/",
          "height": 224
        },
        "id": "n2rPnhzOH8gc",
        "outputId": "9011742e-06fe-4662-d903-906def77ecd3"
      },
      "execution_count": 131,
      "outputs": [
        {
          "output_type": "stream",
          "name": "stdout",
          "text": [
            "(851264, 7)\n"
          ]
        },
        {
          "output_type": "execute_result",
          "data": {
            "text/plain": [
              "                  date symbol        open       close         low        high  \\\n",
              "0  2016-01-05 00:00:00   WLTW  123.430000  125.839996  122.309998  126.250000   \n",
              "1  2016-01-06 00:00:00   WLTW  125.239998  119.980003  119.940002  125.540001   \n",
              "2  2016-01-07 00:00:00   WLTW  116.379997  114.949997  114.930000  119.739998   \n",
              "3  2016-01-08 00:00:00   WLTW  115.480003  116.620003  113.500000  117.440002   \n",
              "4  2016-01-11 00:00:00   WLTW  117.010002  114.970001  114.089996  117.330002   \n",
              "\n",
              "      volume  \n",
              "0  2163600.0  \n",
              "1  2386400.0  \n",
              "2  2489500.0  \n",
              "3  2006300.0  \n",
              "4  1408600.0  "
            ],
            "text/html": [
              "\n",
              "  <div id=\"df-31750c8d-9a83-4995-920e-977f18ac62ec\" class=\"colab-df-container\">\n",
              "    <div>\n",
              "<style scoped>\n",
              "    .dataframe tbody tr th:only-of-type {\n",
              "        vertical-align: middle;\n",
              "    }\n",
              "\n",
              "    .dataframe tbody tr th {\n",
              "        vertical-align: top;\n",
              "    }\n",
              "\n",
              "    .dataframe thead th {\n",
              "        text-align: right;\n",
              "    }\n",
              "</style>\n",
              "<table border=\"1\" class=\"dataframe\">\n",
              "  <thead>\n",
              "    <tr style=\"text-align: right;\">\n",
              "      <th></th>\n",
              "      <th>date</th>\n",
              "      <th>symbol</th>\n",
              "      <th>open</th>\n",
              "      <th>close</th>\n",
              "      <th>low</th>\n",
              "      <th>high</th>\n",
              "      <th>volume</th>\n",
              "    </tr>\n",
              "  </thead>\n",
              "  <tbody>\n",
              "    <tr>\n",
              "      <th>0</th>\n",
              "      <td>2016-01-05 00:00:00</td>\n",
              "      <td>WLTW</td>\n",
              "      <td>123.430000</td>\n",
              "      <td>125.839996</td>\n",
              "      <td>122.309998</td>\n",
              "      <td>126.250000</td>\n",
              "      <td>2163600.0</td>\n",
              "    </tr>\n",
              "    <tr>\n",
              "      <th>1</th>\n",
              "      <td>2016-01-06 00:00:00</td>\n",
              "      <td>WLTW</td>\n",
              "      <td>125.239998</td>\n",
              "      <td>119.980003</td>\n",
              "      <td>119.940002</td>\n",
              "      <td>125.540001</td>\n",
              "      <td>2386400.0</td>\n",
              "    </tr>\n",
              "    <tr>\n",
              "      <th>2</th>\n",
              "      <td>2016-01-07 00:00:00</td>\n",
              "      <td>WLTW</td>\n",
              "      <td>116.379997</td>\n",
              "      <td>114.949997</td>\n",
              "      <td>114.930000</td>\n",
              "      <td>119.739998</td>\n",
              "      <td>2489500.0</td>\n",
              "    </tr>\n",
              "    <tr>\n",
              "      <th>3</th>\n",
              "      <td>2016-01-08 00:00:00</td>\n",
              "      <td>WLTW</td>\n",
              "      <td>115.480003</td>\n",
              "      <td>116.620003</td>\n",
              "      <td>113.500000</td>\n",
              "      <td>117.440002</td>\n",
              "      <td>2006300.0</td>\n",
              "    </tr>\n",
              "    <tr>\n",
              "      <th>4</th>\n",
              "      <td>2016-01-11 00:00:00</td>\n",
              "      <td>WLTW</td>\n",
              "      <td>117.010002</td>\n",
              "      <td>114.970001</td>\n",
              "      <td>114.089996</td>\n",
              "      <td>117.330002</td>\n",
              "      <td>1408600.0</td>\n",
              "    </tr>\n",
              "  </tbody>\n",
              "</table>\n",
              "</div>\n",
              "    <div class=\"colab-df-buttons\">\n",
              "\n",
              "  <div class=\"colab-df-container\">\n",
              "    <button class=\"colab-df-convert\" onclick=\"convertToInteractive('df-31750c8d-9a83-4995-920e-977f18ac62ec')\"\n",
              "            title=\"Convert this dataframe to an interactive table.\"\n",
              "            style=\"display:none;\">\n",
              "\n",
              "  <svg xmlns=\"http://www.w3.org/2000/svg\" height=\"24px\" viewBox=\"0 -960 960 960\">\n",
              "    <path d=\"M120-120v-720h720v720H120Zm60-500h600v-160H180v160Zm220 220h160v-160H400v160Zm0 220h160v-160H400v160ZM180-400h160v-160H180v160Zm440 0h160v-160H620v160ZM180-180h160v-160H180v160Zm440 0h160v-160H620v160Z\"/>\n",
              "  </svg>\n",
              "    </button>\n",
              "\n",
              "  <style>\n",
              "    .colab-df-container {\n",
              "      display:flex;\n",
              "      gap: 12px;\n",
              "    }\n",
              "\n",
              "    .colab-df-convert {\n",
              "      background-color: #E8F0FE;\n",
              "      border: none;\n",
              "      border-radius: 50%;\n",
              "      cursor: pointer;\n",
              "      display: none;\n",
              "      fill: #1967D2;\n",
              "      height: 32px;\n",
              "      padding: 0 0 0 0;\n",
              "      width: 32px;\n",
              "    }\n",
              "\n",
              "    .colab-df-convert:hover {\n",
              "      background-color: #E2EBFA;\n",
              "      box-shadow: 0px 1px 2px rgba(60, 64, 67, 0.3), 0px 1px 3px 1px rgba(60, 64, 67, 0.15);\n",
              "      fill: #174EA6;\n",
              "    }\n",
              "\n",
              "    .colab-df-buttons div {\n",
              "      margin-bottom: 4px;\n",
              "    }\n",
              "\n",
              "    [theme=dark] .colab-df-convert {\n",
              "      background-color: #3B4455;\n",
              "      fill: #D2E3FC;\n",
              "    }\n",
              "\n",
              "    [theme=dark] .colab-df-convert:hover {\n",
              "      background-color: #434B5C;\n",
              "      box-shadow: 0px 1px 3px 1px rgba(0, 0, 0, 0.15);\n",
              "      filter: drop-shadow(0px 1px 2px rgba(0, 0, 0, 0.3));\n",
              "      fill: #FFFFFF;\n",
              "    }\n",
              "  </style>\n",
              "\n",
              "    <script>\n",
              "      const buttonEl =\n",
              "        document.querySelector('#df-31750c8d-9a83-4995-920e-977f18ac62ec button.colab-df-convert');\n",
              "      buttonEl.style.display =\n",
              "        google.colab.kernel.accessAllowed ? 'block' : 'none';\n",
              "\n",
              "      async function convertToInteractive(key) {\n",
              "        const element = document.querySelector('#df-31750c8d-9a83-4995-920e-977f18ac62ec');\n",
              "        const dataTable =\n",
              "          await google.colab.kernel.invokeFunction('convertToInteractive',\n",
              "                                                    [key], {});\n",
              "        if (!dataTable) return;\n",
              "\n",
              "        const docLinkHtml = 'Like what you see? Visit the ' +\n",
              "          '<a target=\"_blank\" href=https://colab.research.google.com/notebooks/data_table.ipynb>data table notebook</a>'\n",
              "          + ' to learn more about interactive tables.';\n",
              "        element.innerHTML = '';\n",
              "        dataTable['output_type'] = 'display_data';\n",
              "        await google.colab.output.renderOutput(dataTable, element);\n",
              "        const docLink = document.createElement('div');\n",
              "        docLink.innerHTML = docLinkHtml;\n",
              "        element.appendChild(docLink);\n",
              "      }\n",
              "    </script>\n",
              "  </div>\n",
              "\n",
              "\n",
              "<div id=\"df-147f070f-3e6b-49de-b662-38a2a5fd266b\">\n",
              "  <button class=\"colab-df-quickchart\" onclick=\"quickchart('df-147f070f-3e6b-49de-b662-38a2a5fd266b')\"\n",
              "            title=\"Suggest charts\"\n",
              "            style=\"display:none;\">\n",
              "\n",
              "<svg xmlns=\"http://www.w3.org/2000/svg\" height=\"24px\"viewBox=\"0 0 24 24\"\n",
              "     width=\"24px\">\n",
              "    <g>\n",
              "        <path d=\"M19 3H5c-1.1 0-2 .9-2 2v14c0 1.1.9 2 2 2h14c1.1 0 2-.9 2-2V5c0-1.1-.9-2-2-2zM9 17H7v-7h2v7zm4 0h-2V7h2v10zm4 0h-2v-4h2v4z\"/>\n",
              "    </g>\n",
              "</svg>\n",
              "  </button>\n",
              "\n",
              "<style>\n",
              "  .colab-df-quickchart {\n",
              "      --bg-color: #E8F0FE;\n",
              "      --fill-color: #1967D2;\n",
              "      --hover-bg-color: #E2EBFA;\n",
              "      --hover-fill-color: #174EA6;\n",
              "      --disabled-fill-color: #AAA;\n",
              "      --disabled-bg-color: #DDD;\n",
              "  }\n",
              "\n",
              "  [theme=dark] .colab-df-quickchart {\n",
              "      --bg-color: #3B4455;\n",
              "      --fill-color: #D2E3FC;\n",
              "      --hover-bg-color: #434B5C;\n",
              "      --hover-fill-color: #FFFFFF;\n",
              "      --disabled-bg-color: #3B4455;\n",
              "      --disabled-fill-color: #666;\n",
              "  }\n",
              "\n",
              "  .colab-df-quickchart {\n",
              "    background-color: var(--bg-color);\n",
              "    border: none;\n",
              "    border-radius: 50%;\n",
              "    cursor: pointer;\n",
              "    display: none;\n",
              "    fill: var(--fill-color);\n",
              "    height: 32px;\n",
              "    padding: 0;\n",
              "    width: 32px;\n",
              "  }\n",
              "\n",
              "  .colab-df-quickchart:hover {\n",
              "    background-color: var(--hover-bg-color);\n",
              "    box-shadow: 0 1px 2px rgba(60, 64, 67, 0.3), 0 1px 3px 1px rgba(60, 64, 67, 0.15);\n",
              "    fill: var(--button-hover-fill-color);\n",
              "  }\n",
              "\n",
              "  .colab-df-quickchart-complete:disabled,\n",
              "  .colab-df-quickchart-complete:disabled:hover {\n",
              "    background-color: var(--disabled-bg-color);\n",
              "    fill: var(--disabled-fill-color);\n",
              "    box-shadow: none;\n",
              "  }\n",
              "\n",
              "  .colab-df-spinner {\n",
              "    border: 2px solid var(--fill-color);\n",
              "    border-color: transparent;\n",
              "    border-bottom-color: var(--fill-color);\n",
              "    animation:\n",
              "      spin 1s steps(1) infinite;\n",
              "  }\n",
              "\n",
              "  @keyframes spin {\n",
              "    0% {\n",
              "      border-color: transparent;\n",
              "      border-bottom-color: var(--fill-color);\n",
              "      border-left-color: var(--fill-color);\n",
              "    }\n",
              "    20% {\n",
              "      border-color: transparent;\n",
              "      border-left-color: var(--fill-color);\n",
              "      border-top-color: var(--fill-color);\n",
              "    }\n",
              "    30% {\n",
              "      border-color: transparent;\n",
              "      border-left-color: var(--fill-color);\n",
              "      border-top-color: var(--fill-color);\n",
              "      border-right-color: var(--fill-color);\n",
              "    }\n",
              "    40% {\n",
              "      border-color: transparent;\n",
              "      border-right-color: var(--fill-color);\n",
              "      border-top-color: var(--fill-color);\n",
              "    }\n",
              "    60% {\n",
              "      border-color: transparent;\n",
              "      border-right-color: var(--fill-color);\n",
              "    }\n",
              "    80% {\n",
              "      border-color: transparent;\n",
              "      border-right-color: var(--fill-color);\n",
              "      border-bottom-color: var(--fill-color);\n",
              "    }\n",
              "    90% {\n",
              "      border-color: transparent;\n",
              "      border-bottom-color: var(--fill-color);\n",
              "    }\n",
              "  }\n",
              "</style>\n",
              "\n",
              "  <script>\n",
              "    async function quickchart(key) {\n",
              "      const quickchartButtonEl =\n",
              "        document.querySelector('#' + key + ' button');\n",
              "      quickchartButtonEl.disabled = true;  // To prevent multiple clicks.\n",
              "      quickchartButtonEl.classList.add('colab-df-spinner');\n",
              "      try {\n",
              "        const charts = await google.colab.kernel.invokeFunction(\n",
              "            'suggestCharts', [key], {});\n",
              "      } catch (error) {\n",
              "        console.error('Error during call to suggestCharts:', error);\n",
              "      }\n",
              "      quickchartButtonEl.classList.remove('colab-df-spinner');\n",
              "      quickchartButtonEl.classList.add('colab-df-quickchart-complete');\n",
              "    }\n",
              "    (() => {\n",
              "      let quickchartButtonEl =\n",
              "        document.querySelector('#df-147f070f-3e6b-49de-b662-38a2a5fd266b button');\n",
              "      quickchartButtonEl.style.display =\n",
              "        google.colab.kernel.accessAllowed ? 'block' : 'none';\n",
              "    })();\n",
              "  </script>\n",
              "</div>\n",
              "    </div>\n",
              "  </div>\n"
            ],
            "application/vnd.google.colaboratory.intrinsic+json": {
              "type": "dataframe",
              "variable_name": "df"
            }
          },
          "metadata": {},
          "execution_count": 131
        }
      ]
    },
    {
      "cell_type": "markdown",
      "source": [
        "# 3. Filter YAHOO data :"
      ],
      "metadata": {
        "id": "ioW55YLnIDAp"
      }
    },
    {
      "cell_type": "code",
      "source": [
        "df.symbol.unique()"
      ],
      "metadata": {
        "colab": {
          "base_uri": "https://localhost:8080/"
        },
        "id": "vIiNvLyoIHk4",
        "outputId": "d72d388b-124e-407a-a99d-719cab5024ad"
      },
      "execution_count": 132,
      "outputs": [
        {
          "output_type": "execute_result",
          "data": {
            "text/plain": [
              "array(['WLTW', 'A', 'AAL', 'AAP', 'AAPL', 'ABC', 'ABT', 'ACN', 'ADBE',\n",
              "       'ADI', 'ADM', 'ADP', 'ADS', 'ADSK', 'AEE', 'AEP', 'AES', 'AET',\n",
              "       'AFL', 'AGN', 'AIG', 'AIZ', 'AJG', 'AKAM', 'ALB', 'ALK', 'ALL',\n",
              "       'ALXN', 'AMAT', 'AME', 'AMG', 'AMGN', 'AMP', 'AMT', 'AMZN', 'AN',\n",
              "       'ANTM', 'AON', 'APA', 'APC', 'APD', 'APH', 'ARNC', 'ATVI', 'AVB',\n",
              "       'AVGO', 'AVY', 'AWK', 'AXP', 'AYI', 'AZO', 'BA', 'BAC', 'BAX',\n",
              "       'BBBY', 'BBT', 'BBY', 'BCR', 'BDX', 'BEN', 'BHI', 'BIIB', 'BK',\n",
              "       'BLK', 'BLL', 'BMY', 'BSX', 'BWA', 'BXP', 'C', 'CA', 'CAG', 'CAH',\n",
              "       'CAT', 'CB', 'CBG', 'CBS', 'CCI', 'CCL', 'CELG', 'CERN', 'CF',\n",
              "       'CHD', 'CHK', 'CHRW', 'CI', 'CINF', 'CL', 'CLX', 'CMA', 'CMCSA',\n",
              "       'CME', 'CMG', 'CMI', 'CMS', 'CNC', 'CNP', 'COF', 'COG', 'COH',\n",
              "       'COL', 'COO', 'COP', 'COST', 'CPB', 'CRM', 'CSCO', 'CSX', 'CTAS',\n",
              "       'CTL', 'CTSH', 'CTXS', 'CVS', 'CVX', 'CXO', 'D', 'DAL', 'DD', 'DE',\n",
              "       'DFS', 'DG', 'DGX', 'DHI', 'DHR', 'DIS', 'DISCA', 'DISCK', 'DLR',\n",
              "       'DLTR', 'DNB', 'DOV', 'DOW', 'DPS', 'DRI', 'DTE', 'DUK', 'DVA',\n",
              "       'DVN', 'EA', 'EBAY', 'ECL', 'ED', 'EFX', 'EIX', 'EL', 'EMN', 'EMR',\n",
              "       'ENDP', 'EOG', 'EQIX', 'EQR', 'EQT', 'ES', 'ESRX', 'ESS', 'ETFC',\n",
              "       'ETN', 'ETR', 'EW', 'EXC', 'EXPD', 'EXPE', 'EXR', 'F', 'FAST',\n",
              "       'FCX', 'FDX', 'FE', 'FFIV', 'FIS', 'FISV', 'FITB', 'FL', 'FLIR',\n",
              "       'FLR', 'FLS', 'FMC', 'FOX', 'FOXA', 'FRT', 'FSLR', 'FTI', 'FTR',\n",
              "       'GD', 'GE', 'GGP', 'GILD', 'GIS', 'GLW', 'GOOG', 'GOOGL', 'GPC',\n",
              "       'GPN', 'GPS', 'GRMN', 'GS', 'GT', 'GWW', 'HAL', 'HAR', 'HAS',\n",
              "       'HBAN', 'HBI', 'HCN', 'HCP', 'HD', 'HES', 'HIG', 'HOG', 'HOLX',\n",
              "       'HON', 'HP', 'HPQ', 'HRB', 'HRL', 'HRS', 'HSIC', 'HST', 'HSY',\n",
              "       'HUM', 'IBM', 'ICE', 'IDXX', 'IFF', 'ILMN', 'INTC', 'INTU', 'IP',\n",
              "       'IPG', 'IR', 'IRM', 'ISRG', 'ITW', 'IVZ', 'JBHT', 'JCI', 'JEC',\n",
              "       'JNJ', 'JNPR', 'JPM', 'JWN', 'K', 'KEY', 'KIM', 'KLAC', 'KMB',\n",
              "       'KMX', 'KO', 'KR', 'KSS', 'KSU', 'L', 'LB', 'LEG', 'LEN', 'LH',\n",
              "       'LKQ', 'LLL', 'LLTC', 'LLY', 'LMT', 'LNC', 'LNT', 'LOW', 'LRCX',\n",
              "       'LUK', 'LUV', 'LVLT', 'M', 'MA', 'MAA', 'MAC', 'MAR', 'MAS', 'MAT',\n",
              "       'MCD', 'MCHP', 'MCK', 'MCO', 'MDLZ', 'MDT', 'MET', 'MHK', 'MJN',\n",
              "       'MKC', 'MLM', 'MMC', 'MMM', 'MNST', 'MO', 'MON', 'MOS', 'MRK',\n",
              "       'MRO', 'MSFT', 'MSI', 'MTB', 'MTD', 'MU', 'MUR', 'MYL', 'NBL',\n",
              "       'NDAQ', 'NEE', 'NEM', 'NFLX', 'NFX', 'NI', 'NKE', 'NOC', 'NOV',\n",
              "       'NRG', 'NSC', 'NTAP', 'NTRS', 'NUE', 'NVDA', 'NWL', 'O', 'OKE',\n",
              "       'OMC', 'ORCL', 'ORLY', 'OXY', 'PAYX', 'PBCT', 'PBI', 'PCAR', 'PCG',\n",
              "       'PCLN', 'PDCO', 'PEG', 'PEP', 'PFE', 'PFG', 'PG', 'PGR', 'PH',\n",
              "       'PHM', 'PKI', 'PLD', 'PM', 'PNC', 'PNR', 'PNW', 'PPG', 'PPL',\n",
              "       'PRGO', 'PRU', 'PSA', 'PVH', 'PWR', 'PX', 'PXD', 'QCOM', 'R',\n",
              "       'RAI', 'RCL', 'REGN', 'RF', 'RHI', 'RHT', 'RIG', 'RL', 'ROK',\n",
              "       'ROP', 'ROST', 'RRC', 'RSG', 'RTN', 'SBUX', 'SCG', 'SCHW', 'SE',\n",
              "       'SEE', 'SHW', 'SIG', 'SJM', 'SLB', 'SLG', 'SNA', 'SNI', 'SO',\n",
              "       'SPG', 'SPGI', 'SPLS', 'SRCL', 'SRE', 'STI', 'STT', 'STX', 'STZ',\n",
              "       'SWK', 'SWKS', 'SWN', 'SYK', 'SYMC', 'SYY', 'T', 'TAP', 'TDC',\n",
              "       'TEL', 'TGNA', 'TGT', 'TIF', 'TJX', 'TMK', 'TMO', 'TROW', 'TRV',\n",
              "       'TSCO', 'TSN', 'TSO', 'TSS', 'TWX', 'TXN', 'TXT', 'UAA', 'UAL',\n",
              "       'UDR', 'UHS', 'ULTA', 'UNH', 'UNM', 'UNP', 'UPS', 'URBN', 'URI',\n",
              "       'USB', 'UTX', 'V', 'VAR', 'VFC', 'VIAB', 'VLO', 'VMC', 'VNO',\n",
              "       'VRSK', 'VRSN', 'VRTX', 'VTR', 'VZ', 'WAT', 'WBA', 'WDC', 'WEC',\n",
              "       'WFC', 'WFM', 'WHR', 'WM', 'WMB', 'WMT', 'WU', 'WY', 'WYN', 'WYNN',\n",
              "       'XEC', 'XEL', 'XL', 'XLNX', 'XOM', 'XRAY', 'XRX', 'YHOO', 'YUM',\n",
              "       'ZBH', 'ZION', 'AIV', 'CHTR', 'LYB', 'GM', 'ABBV', 'DLPH', 'FB',\n",
              "       'FBHS', 'HCA', 'KMI', 'KORS', 'MPC', 'NLSN', 'PSX', 'TDG', 'TRIP',\n",
              "       'XYL', 'ZTS', 'COTY', 'MNK', 'NWS', 'NWSA', 'EVHC', 'ALLE', 'CFG',\n",
              "       'NAVI', 'QRVO', 'SYF', 'WRK', 'KHC', 'PYPL', 'HPE', 'CSRA', 'FTV'],\n",
              "      dtype=object)"
            ]
          },
          "metadata": {},
          "execution_count": 132
        }
      ]
    },
    {
      "cell_type": "code",
      "source": [
        "df_yahoo = df[df['symbol']=='YHOO']\n",
        "print(df_yahoo.shape)\n",
        "df_yahoo.head()"
      ],
      "metadata": {
        "colab": {
          "base_uri": "https://localhost:8080/",
          "height": 224
        },
        "id": "F6O4LG_UIPRB",
        "outputId": "1881de0b-3cf6-4c01-9bef-17a39d91a9a0"
      },
      "execution_count": 133,
      "outputs": [
        {
          "output_type": "stream",
          "name": "stdout",
          "text": [
            "(1762, 7)\n"
          ]
        },
        {
          "output_type": "execute_result",
          "data": {
            "text/plain": [
              "            date symbol       open      close        low       high  \\\n",
              "713   2010-01-04   YHOO  16.940001  17.100000  16.879999  17.200001   \n",
              "1181  2010-01-05   YHOO  17.219999  17.230000  17.000000  17.230000   \n",
              "1649  2010-01-06   YHOO  17.170000  17.170000  17.070000  17.299999   \n",
              "2117  2010-01-07   YHOO  16.809999  16.700001  16.570000  16.900000   \n",
              "2585  2010-01-08   YHOO  16.680000  16.700001  16.620001  16.760000   \n",
              "\n",
              "          volume  \n",
              "713   16587400.0  \n",
              "1181  11718100.0  \n",
              "1649  16422000.0  \n",
              "2117  31816300.0  \n",
              "2585  15470000.0  "
            ],
            "text/html": [
              "\n",
              "  <div id=\"df-b8847a57-fe1e-40fb-8ccf-f19f7d84ff38\" class=\"colab-df-container\">\n",
              "    <div>\n",
              "<style scoped>\n",
              "    .dataframe tbody tr th:only-of-type {\n",
              "        vertical-align: middle;\n",
              "    }\n",
              "\n",
              "    .dataframe tbody tr th {\n",
              "        vertical-align: top;\n",
              "    }\n",
              "\n",
              "    .dataframe thead th {\n",
              "        text-align: right;\n",
              "    }\n",
              "</style>\n",
              "<table border=\"1\" class=\"dataframe\">\n",
              "  <thead>\n",
              "    <tr style=\"text-align: right;\">\n",
              "      <th></th>\n",
              "      <th>date</th>\n",
              "      <th>symbol</th>\n",
              "      <th>open</th>\n",
              "      <th>close</th>\n",
              "      <th>low</th>\n",
              "      <th>high</th>\n",
              "      <th>volume</th>\n",
              "    </tr>\n",
              "  </thead>\n",
              "  <tbody>\n",
              "    <tr>\n",
              "      <th>713</th>\n",
              "      <td>2010-01-04</td>\n",
              "      <td>YHOO</td>\n",
              "      <td>16.940001</td>\n",
              "      <td>17.100000</td>\n",
              "      <td>16.879999</td>\n",
              "      <td>17.200001</td>\n",
              "      <td>16587400.0</td>\n",
              "    </tr>\n",
              "    <tr>\n",
              "      <th>1181</th>\n",
              "      <td>2010-01-05</td>\n",
              "      <td>YHOO</td>\n",
              "      <td>17.219999</td>\n",
              "      <td>17.230000</td>\n",
              "      <td>17.000000</td>\n",
              "      <td>17.230000</td>\n",
              "      <td>11718100.0</td>\n",
              "    </tr>\n",
              "    <tr>\n",
              "      <th>1649</th>\n",
              "      <td>2010-01-06</td>\n",
              "      <td>YHOO</td>\n",
              "      <td>17.170000</td>\n",
              "      <td>17.170000</td>\n",
              "      <td>17.070000</td>\n",
              "      <td>17.299999</td>\n",
              "      <td>16422000.0</td>\n",
              "    </tr>\n",
              "    <tr>\n",
              "      <th>2117</th>\n",
              "      <td>2010-01-07</td>\n",
              "      <td>YHOO</td>\n",
              "      <td>16.809999</td>\n",
              "      <td>16.700001</td>\n",
              "      <td>16.570000</td>\n",
              "      <td>16.900000</td>\n",
              "      <td>31816300.0</td>\n",
              "    </tr>\n",
              "    <tr>\n",
              "      <th>2585</th>\n",
              "      <td>2010-01-08</td>\n",
              "      <td>YHOO</td>\n",
              "      <td>16.680000</td>\n",
              "      <td>16.700001</td>\n",
              "      <td>16.620001</td>\n",
              "      <td>16.760000</td>\n",
              "      <td>15470000.0</td>\n",
              "    </tr>\n",
              "  </tbody>\n",
              "</table>\n",
              "</div>\n",
              "    <div class=\"colab-df-buttons\">\n",
              "\n",
              "  <div class=\"colab-df-container\">\n",
              "    <button class=\"colab-df-convert\" onclick=\"convertToInteractive('df-b8847a57-fe1e-40fb-8ccf-f19f7d84ff38')\"\n",
              "            title=\"Convert this dataframe to an interactive table.\"\n",
              "            style=\"display:none;\">\n",
              "\n",
              "  <svg xmlns=\"http://www.w3.org/2000/svg\" height=\"24px\" viewBox=\"0 -960 960 960\">\n",
              "    <path d=\"M120-120v-720h720v720H120Zm60-500h600v-160H180v160Zm220 220h160v-160H400v160Zm0 220h160v-160H400v160ZM180-400h160v-160H180v160Zm440 0h160v-160H620v160ZM180-180h160v-160H180v160Zm440 0h160v-160H620v160Z\"/>\n",
              "  </svg>\n",
              "    </button>\n",
              "\n",
              "  <style>\n",
              "    .colab-df-container {\n",
              "      display:flex;\n",
              "      gap: 12px;\n",
              "    }\n",
              "\n",
              "    .colab-df-convert {\n",
              "      background-color: #E8F0FE;\n",
              "      border: none;\n",
              "      border-radius: 50%;\n",
              "      cursor: pointer;\n",
              "      display: none;\n",
              "      fill: #1967D2;\n",
              "      height: 32px;\n",
              "      padding: 0 0 0 0;\n",
              "      width: 32px;\n",
              "    }\n",
              "\n",
              "    .colab-df-convert:hover {\n",
              "      background-color: #E2EBFA;\n",
              "      box-shadow: 0px 1px 2px rgba(60, 64, 67, 0.3), 0px 1px 3px 1px rgba(60, 64, 67, 0.15);\n",
              "      fill: #174EA6;\n",
              "    }\n",
              "\n",
              "    .colab-df-buttons div {\n",
              "      margin-bottom: 4px;\n",
              "    }\n",
              "\n",
              "    [theme=dark] .colab-df-convert {\n",
              "      background-color: #3B4455;\n",
              "      fill: #D2E3FC;\n",
              "    }\n",
              "\n",
              "    [theme=dark] .colab-df-convert:hover {\n",
              "      background-color: #434B5C;\n",
              "      box-shadow: 0px 1px 3px 1px rgba(0, 0, 0, 0.15);\n",
              "      filter: drop-shadow(0px 1px 2px rgba(0, 0, 0, 0.3));\n",
              "      fill: #FFFFFF;\n",
              "    }\n",
              "  </style>\n",
              "\n",
              "    <script>\n",
              "      const buttonEl =\n",
              "        document.querySelector('#df-b8847a57-fe1e-40fb-8ccf-f19f7d84ff38 button.colab-df-convert');\n",
              "      buttonEl.style.display =\n",
              "        google.colab.kernel.accessAllowed ? 'block' : 'none';\n",
              "\n",
              "      async function convertToInteractive(key) {\n",
              "        const element = document.querySelector('#df-b8847a57-fe1e-40fb-8ccf-f19f7d84ff38');\n",
              "        const dataTable =\n",
              "          await google.colab.kernel.invokeFunction('convertToInteractive',\n",
              "                                                    [key], {});\n",
              "        if (!dataTable) return;\n",
              "\n",
              "        const docLinkHtml = 'Like what you see? Visit the ' +\n",
              "          '<a target=\"_blank\" href=https://colab.research.google.com/notebooks/data_table.ipynb>data table notebook</a>'\n",
              "          + ' to learn more about interactive tables.';\n",
              "        element.innerHTML = '';\n",
              "        dataTable['output_type'] = 'display_data';\n",
              "        await google.colab.output.renderOutput(dataTable, element);\n",
              "        const docLink = document.createElement('div');\n",
              "        docLink.innerHTML = docLinkHtml;\n",
              "        element.appendChild(docLink);\n",
              "      }\n",
              "    </script>\n",
              "  </div>\n",
              "\n",
              "\n",
              "<div id=\"df-27d1a099-4d2c-45af-9e41-6f330603c7fd\">\n",
              "  <button class=\"colab-df-quickchart\" onclick=\"quickchart('df-27d1a099-4d2c-45af-9e41-6f330603c7fd')\"\n",
              "            title=\"Suggest charts\"\n",
              "            style=\"display:none;\">\n",
              "\n",
              "<svg xmlns=\"http://www.w3.org/2000/svg\" height=\"24px\"viewBox=\"0 0 24 24\"\n",
              "     width=\"24px\">\n",
              "    <g>\n",
              "        <path d=\"M19 3H5c-1.1 0-2 .9-2 2v14c0 1.1.9 2 2 2h14c1.1 0 2-.9 2-2V5c0-1.1-.9-2-2-2zM9 17H7v-7h2v7zm4 0h-2V7h2v10zm4 0h-2v-4h2v4z\"/>\n",
              "    </g>\n",
              "</svg>\n",
              "  </button>\n",
              "\n",
              "<style>\n",
              "  .colab-df-quickchart {\n",
              "      --bg-color: #E8F0FE;\n",
              "      --fill-color: #1967D2;\n",
              "      --hover-bg-color: #E2EBFA;\n",
              "      --hover-fill-color: #174EA6;\n",
              "      --disabled-fill-color: #AAA;\n",
              "      --disabled-bg-color: #DDD;\n",
              "  }\n",
              "\n",
              "  [theme=dark] .colab-df-quickchart {\n",
              "      --bg-color: #3B4455;\n",
              "      --fill-color: #D2E3FC;\n",
              "      --hover-bg-color: #434B5C;\n",
              "      --hover-fill-color: #FFFFFF;\n",
              "      --disabled-bg-color: #3B4455;\n",
              "      --disabled-fill-color: #666;\n",
              "  }\n",
              "\n",
              "  .colab-df-quickchart {\n",
              "    background-color: var(--bg-color);\n",
              "    border: none;\n",
              "    border-radius: 50%;\n",
              "    cursor: pointer;\n",
              "    display: none;\n",
              "    fill: var(--fill-color);\n",
              "    height: 32px;\n",
              "    padding: 0;\n",
              "    width: 32px;\n",
              "  }\n",
              "\n",
              "  .colab-df-quickchart:hover {\n",
              "    background-color: var(--hover-bg-color);\n",
              "    box-shadow: 0 1px 2px rgba(60, 64, 67, 0.3), 0 1px 3px 1px rgba(60, 64, 67, 0.15);\n",
              "    fill: var(--button-hover-fill-color);\n",
              "  }\n",
              "\n",
              "  .colab-df-quickchart-complete:disabled,\n",
              "  .colab-df-quickchart-complete:disabled:hover {\n",
              "    background-color: var(--disabled-bg-color);\n",
              "    fill: var(--disabled-fill-color);\n",
              "    box-shadow: none;\n",
              "  }\n",
              "\n",
              "  .colab-df-spinner {\n",
              "    border: 2px solid var(--fill-color);\n",
              "    border-color: transparent;\n",
              "    border-bottom-color: var(--fill-color);\n",
              "    animation:\n",
              "      spin 1s steps(1) infinite;\n",
              "  }\n",
              "\n",
              "  @keyframes spin {\n",
              "    0% {\n",
              "      border-color: transparent;\n",
              "      border-bottom-color: var(--fill-color);\n",
              "      border-left-color: var(--fill-color);\n",
              "    }\n",
              "    20% {\n",
              "      border-color: transparent;\n",
              "      border-left-color: var(--fill-color);\n",
              "      border-top-color: var(--fill-color);\n",
              "    }\n",
              "    30% {\n",
              "      border-color: transparent;\n",
              "      border-left-color: var(--fill-color);\n",
              "      border-top-color: var(--fill-color);\n",
              "      border-right-color: var(--fill-color);\n",
              "    }\n",
              "    40% {\n",
              "      border-color: transparent;\n",
              "      border-right-color: var(--fill-color);\n",
              "      border-top-color: var(--fill-color);\n",
              "    }\n",
              "    60% {\n",
              "      border-color: transparent;\n",
              "      border-right-color: var(--fill-color);\n",
              "    }\n",
              "    80% {\n",
              "      border-color: transparent;\n",
              "      border-right-color: var(--fill-color);\n",
              "      border-bottom-color: var(--fill-color);\n",
              "    }\n",
              "    90% {\n",
              "      border-color: transparent;\n",
              "      border-bottom-color: var(--fill-color);\n",
              "    }\n",
              "  }\n",
              "</style>\n",
              "\n",
              "  <script>\n",
              "    async function quickchart(key) {\n",
              "      const quickchartButtonEl =\n",
              "        document.querySelector('#' + key + ' button');\n",
              "      quickchartButtonEl.disabled = true;  // To prevent multiple clicks.\n",
              "      quickchartButtonEl.classList.add('colab-df-spinner');\n",
              "      try {\n",
              "        const charts = await google.colab.kernel.invokeFunction(\n",
              "            'suggestCharts', [key], {});\n",
              "      } catch (error) {\n",
              "        console.error('Error during call to suggestCharts:', error);\n",
              "      }\n",
              "      quickchartButtonEl.classList.remove('colab-df-spinner');\n",
              "      quickchartButtonEl.classList.add('colab-df-quickchart-complete');\n",
              "    }\n",
              "    (() => {\n",
              "      let quickchartButtonEl =\n",
              "        document.querySelector('#df-27d1a099-4d2c-45af-9e41-6f330603c7fd button');\n",
              "      quickchartButtonEl.style.display =\n",
              "        google.colab.kernel.accessAllowed ? 'block' : 'none';\n",
              "    })();\n",
              "  </script>\n",
              "</div>\n",
              "    </div>\n",
              "  </div>\n"
            ],
            "application/vnd.google.colaboratory.intrinsic+json": {
              "type": "dataframe",
              "variable_name": "df_yahoo",
              "repr_error": "0"
            }
          },
          "metadata": {},
          "execution_count": 133
        }
      ]
    },
    {
      "cell_type": "markdown",
      "source": [
        "# 4. Explore YAHOO data :"
      ],
      "metadata": {
        "id": "ONBbo3q6IbaG"
      }
    },
    {
      "cell_type": "code",
      "source": [
        "df_yahoo.describe()"
      ],
      "metadata": {
        "colab": {
          "base_uri": "https://localhost:8080/",
          "height": 300
        },
        "id": "KkTmTSooIScl",
        "outputId": "57e9f8c3-34aa-4d99-a877-e2b5dae4732a"
      },
      "execution_count": 134,
      "outputs": [
        {
          "output_type": "execute_result",
          "data": {
            "text/plain": [
              "              open        close          low         high        volume\n",
              "count  1762.000000  1762.000000  1762.000000  1762.000000  1.762000e+03\n",
              "mean     27.297917    27.291992    26.975602    27.609977  1.996907e+07\n",
              "std      11.412612    11.406846    11.289736    11.526101  1.376851e+07\n",
              "min      11.300000    11.090000    11.090000    11.800000  2.586900e+06\n",
              "25%      15.950000    15.920000    15.770000    16.110001  1.235152e+07\n",
              "50%      26.770001    26.750000    26.495000    27.105000  1.639070e+07\n",
              "75%      37.335000    37.377500    36.897501    37.689999  2.325988e+07\n",
              "max      52.279999    52.369999    51.639999    52.619999  2.338721e+08"
            ],
            "text/html": [
              "\n",
              "  <div id=\"df-36821a42-0360-45c2-9fa1-636c0e5728a7\" class=\"colab-df-container\">\n",
              "    <div>\n",
              "<style scoped>\n",
              "    .dataframe tbody tr th:only-of-type {\n",
              "        vertical-align: middle;\n",
              "    }\n",
              "\n",
              "    .dataframe tbody tr th {\n",
              "        vertical-align: top;\n",
              "    }\n",
              "\n",
              "    .dataframe thead th {\n",
              "        text-align: right;\n",
              "    }\n",
              "</style>\n",
              "<table border=\"1\" class=\"dataframe\">\n",
              "  <thead>\n",
              "    <tr style=\"text-align: right;\">\n",
              "      <th></th>\n",
              "      <th>open</th>\n",
              "      <th>close</th>\n",
              "      <th>low</th>\n",
              "      <th>high</th>\n",
              "      <th>volume</th>\n",
              "    </tr>\n",
              "  </thead>\n",
              "  <tbody>\n",
              "    <tr>\n",
              "      <th>count</th>\n",
              "      <td>1762.000000</td>\n",
              "      <td>1762.000000</td>\n",
              "      <td>1762.000000</td>\n",
              "      <td>1762.000000</td>\n",
              "      <td>1.762000e+03</td>\n",
              "    </tr>\n",
              "    <tr>\n",
              "      <th>mean</th>\n",
              "      <td>27.297917</td>\n",
              "      <td>27.291992</td>\n",
              "      <td>26.975602</td>\n",
              "      <td>27.609977</td>\n",
              "      <td>1.996907e+07</td>\n",
              "    </tr>\n",
              "    <tr>\n",
              "      <th>std</th>\n",
              "      <td>11.412612</td>\n",
              "      <td>11.406846</td>\n",
              "      <td>11.289736</td>\n",
              "      <td>11.526101</td>\n",
              "      <td>1.376851e+07</td>\n",
              "    </tr>\n",
              "    <tr>\n",
              "      <th>min</th>\n",
              "      <td>11.300000</td>\n",
              "      <td>11.090000</td>\n",
              "      <td>11.090000</td>\n",
              "      <td>11.800000</td>\n",
              "      <td>2.586900e+06</td>\n",
              "    </tr>\n",
              "    <tr>\n",
              "      <th>25%</th>\n",
              "      <td>15.950000</td>\n",
              "      <td>15.920000</td>\n",
              "      <td>15.770000</td>\n",
              "      <td>16.110001</td>\n",
              "      <td>1.235152e+07</td>\n",
              "    </tr>\n",
              "    <tr>\n",
              "      <th>50%</th>\n",
              "      <td>26.770001</td>\n",
              "      <td>26.750000</td>\n",
              "      <td>26.495000</td>\n",
              "      <td>27.105000</td>\n",
              "      <td>1.639070e+07</td>\n",
              "    </tr>\n",
              "    <tr>\n",
              "      <th>75%</th>\n",
              "      <td>37.335000</td>\n",
              "      <td>37.377500</td>\n",
              "      <td>36.897501</td>\n",
              "      <td>37.689999</td>\n",
              "      <td>2.325988e+07</td>\n",
              "    </tr>\n",
              "    <tr>\n",
              "      <th>max</th>\n",
              "      <td>52.279999</td>\n",
              "      <td>52.369999</td>\n",
              "      <td>51.639999</td>\n",
              "      <td>52.619999</td>\n",
              "      <td>2.338721e+08</td>\n",
              "    </tr>\n",
              "  </tbody>\n",
              "</table>\n",
              "</div>\n",
              "    <div class=\"colab-df-buttons\">\n",
              "\n",
              "  <div class=\"colab-df-container\">\n",
              "    <button class=\"colab-df-convert\" onclick=\"convertToInteractive('df-36821a42-0360-45c2-9fa1-636c0e5728a7')\"\n",
              "            title=\"Convert this dataframe to an interactive table.\"\n",
              "            style=\"display:none;\">\n",
              "\n",
              "  <svg xmlns=\"http://www.w3.org/2000/svg\" height=\"24px\" viewBox=\"0 -960 960 960\">\n",
              "    <path d=\"M120-120v-720h720v720H120Zm60-500h600v-160H180v160Zm220 220h160v-160H400v160Zm0 220h160v-160H400v160ZM180-400h160v-160H180v160Zm440 0h160v-160H620v160ZM180-180h160v-160H180v160Zm440 0h160v-160H620v160Z\"/>\n",
              "  </svg>\n",
              "    </button>\n",
              "\n",
              "  <style>\n",
              "    .colab-df-container {\n",
              "      display:flex;\n",
              "      gap: 12px;\n",
              "    }\n",
              "\n",
              "    .colab-df-convert {\n",
              "      background-color: #E8F0FE;\n",
              "      border: none;\n",
              "      border-radius: 50%;\n",
              "      cursor: pointer;\n",
              "      display: none;\n",
              "      fill: #1967D2;\n",
              "      height: 32px;\n",
              "      padding: 0 0 0 0;\n",
              "      width: 32px;\n",
              "    }\n",
              "\n",
              "    .colab-df-convert:hover {\n",
              "      background-color: #E2EBFA;\n",
              "      box-shadow: 0px 1px 2px rgba(60, 64, 67, 0.3), 0px 1px 3px 1px rgba(60, 64, 67, 0.15);\n",
              "      fill: #174EA6;\n",
              "    }\n",
              "\n",
              "    .colab-df-buttons div {\n",
              "      margin-bottom: 4px;\n",
              "    }\n",
              "\n",
              "    [theme=dark] .colab-df-convert {\n",
              "      background-color: #3B4455;\n",
              "      fill: #D2E3FC;\n",
              "    }\n",
              "\n",
              "    [theme=dark] .colab-df-convert:hover {\n",
              "      background-color: #434B5C;\n",
              "      box-shadow: 0px 1px 3px 1px rgba(0, 0, 0, 0.15);\n",
              "      filter: drop-shadow(0px 1px 2px rgba(0, 0, 0, 0.3));\n",
              "      fill: #FFFFFF;\n",
              "    }\n",
              "  </style>\n",
              "\n",
              "    <script>\n",
              "      const buttonEl =\n",
              "        document.querySelector('#df-36821a42-0360-45c2-9fa1-636c0e5728a7 button.colab-df-convert');\n",
              "      buttonEl.style.display =\n",
              "        google.colab.kernel.accessAllowed ? 'block' : 'none';\n",
              "\n",
              "      async function convertToInteractive(key) {\n",
              "        const element = document.querySelector('#df-36821a42-0360-45c2-9fa1-636c0e5728a7');\n",
              "        const dataTable =\n",
              "          await google.colab.kernel.invokeFunction('convertToInteractive',\n",
              "                                                    [key], {});\n",
              "        if (!dataTable) return;\n",
              "\n",
              "        const docLinkHtml = 'Like what you see? Visit the ' +\n",
              "          '<a target=\"_blank\" href=https://colab.research.google.com/notebooks/data_table.ipynb>data table notebook</a>'\n",
              "          + ' to learn more about interactive tables.';\n",
              "        element.innerHTML = '';\n",
              "        dataTable['output_type'] = 'display_data';\n",
              "        await google.colab.output.renderOutput(dataTable, element);\n",
              "        const docLink = document.createElement('div');\n",
              "        docLink.innerHTML = docLinkHtml;\n",
              "        element.appendChild(docLink);\n",
              "      }\n",
              "    </script>\n",
              "  </div>\n",
              "\n",
              "\n",
              "<div id=\"df-4f0b1791-45ff-470a-866d-ba6dfd96135d\">\n",
              "  <button class=\"colab-df-quickchart\" onclick=\"quickchart('df-4f0b1791-45ff-470a-866d-ba6dfd96135d')\"\n",
              "            title=\"Suggest charts\"\n",
              "            style=\"display:none;\">\n",
              "\n",
              "<svg xmlns=\"http://www.w3.org/2000/svg\" height=\"24px\"viewBox=\"0 0 24 24\"\n",
              "     width=\"24px\">\n",
              "    <g>\n",
              "        <path d=\"M19 3H5c-1.1 0-2 .9-2 2v14c0 1.1.9 2 2 2h14c1.1 0 2-.9 2-2V5c0-1.1-.9-2-2-2zM9 17H7v-7h2v7zm4 0h-2V7h2v10zm4 0h-2v-4h2v4z\"/>\n",
              "    </g>\n",
              "</svg>\n",
              "  </button>\n",
              "\n",
              "<style>\n",
              "  .colab-df-quickchart {\n",
              "      --bg-color: #E8F0FE;\n",
              "      --fill-color: #1967D2;\n",
              "      --hover-bg-color: #E2EBFA;\n",
              "      --hover-fill-color: #174EA6;\n",
              "      --disabled-fill-color: #AAA;\n",
              "      --disabled-bg-color: #DDD;\n",
              "  }\n",
              "\n",
              "  [theme=dark] .colab-df-quickchart {\n",
              "      --bg-color: #3B4455;\n",
              "      --fill-color: #D2E3FC;\n",
              "      --hover-bg-color: #434B5C;\n",
              "      --hover-fill-color: #FFFFFF;\n",
              "      --disabled-bg-color: #3B4455;\n",
              "      --disabled-fill-color: #666;\n",
              "  }\n",
              "\n",
              "  .colab-df-quickchart {\n",
              "    background-color: var(--bg-color);\n",
              "    border: none;\n",
              "    border-radius: 50%;\n",
              "    cursor: pointer;\n",
              "    display: none;\n",
              "    fill: var(--fill-color);\n",
              "    height: 32px;\n",
              "    padding: 0;\n",
              "    width: 32px;\n",
              "  }\n",
              "\n",
              "  .colab-df-quickchart:hover {\n",
              "    background-color: var(--hover-bg-color);\n",
              "    box-shadow: 0 1px 2px rgba(60, 64, 67, 0.3), 0 1px 3px 1px rgba(60, 64, 67, 0.15);\n",
              "    fill: var(--button-hover-fill-color);\n",
              "  }\n",
              "\n",
              "  .colab-df-quickchart-complete:disabled,\n",
              "  .colab-df-quickchart-complete:disabled:hover {\n",
              "    background-color: var(--disabled-bg-color);\n",
              "    fill: var(--disabled-fill-color);\n",
              "    box-shadow: none;\n",
              "  }\n",
              "\n",
              "  .colab-df-spinner {\n",
              "    border: 2px solid var(--fill-color);\n",
              "    border-color: transparent;\n",
              "    border-bottom-color: var(--fill-color);\n",
              "    animation:\n",
              "      spin 1s steps(1) infinite;\n",
              "  }\n",
              "\n",
              "  @keyframes spin {\n",
              "    0% {\n",
              "      border-color: transparent;\n",
              "      border-bottom-color: var(--fill-color);\n",
              "      border-left-color: var(--fill-color);\n",
              "    }\n",
              "    20% {\n",
              "      border-color: transparent;\n",
              "      border-left-color: var(--fill-color);\n",
              "      border-top-color: var(--fill-color);\n",
              "    }\n",
              "    30% {\n",
              "      border-color: transparent;\n",
              "      border-left-color: var(--fill-color);\n",
              "      border-top-color: var(--fill-color);\n",
              "      border-right-color: var(--fill-color);\n",
              "    }\n",
              "    40% {\n",
              "      border-color: transparent;\n",
              "      border-right-color: var(--fill-color);\n",
              "      border-top-color: var(--fill-color);\n",
              "    }\n",
              "    60% {\n",
              "      border-color: transparent;\n",
              "      border-right-color: var(--fill-color);\n",
              "    }\n",
              "    80% {\n",
              "      border-color: transparent;\n",
              "      border-right-color: var(--fill-color);\n",
              "      border-bottom-color: var(--fill-color);\n",
              "    }\n",
              "    90% {\n",
              "      border-color: transparent;\n",
              "      border-bottom-color: var(--fill-color);\n",
              "    }\n",
              "  }\n",
              "</style>\n",
              "\n",
              "  <script>\n",
              "    async function quickchart(key) {\n",
              "      const quickchartButtonEl =\n",
              "        document.querySelector('#' + key + ' button');\n",
              "      quickchartButtonEl.disabled = true;  // To prevent multiple clicks.\n",
              "      quickchartButtonEl.classList.add('colab-df-spinner');\n",
              "      try {\n",
              "        const charts = await google.colab.kernel.invokeFunction(\n",
              "            'suggestCharts', [key], {});\n",
              "      } catch (error) {\n",
              "        console.error('Error during call to suggestCharts:', error);\n",
              "      }\n",
              "      quickchartButtonEl.classList.remove('colab-df-spinner');\n",
              "      quickchartButtonEl.classList.add('colab-df-quickchart-complete');\n",
              "    }\n",
              "    (() => {\n",
              "      let quickchartButtonEl =\n",
              "        document.querySelector('#df-4f0b1791-45ff-470a-866d-ba6dfd96135d button');\n",
              "      quickchartButtonEl.style.display =\n",
              "        google.colab.kernel.accessAllowed ? 'block' : 'none';\n",
              "    })();\n",
              "  </script>\n",
              "</div>\n",
              "    </div>\n",
              "  </div>\n"
            ],
            "application/vnd.google.colaboratory.intrinsic+json": {
              "type": "dataframe",
              "summary": "{\n  \"name\": \"df_yahoo\",\n  \"rows\": 8,\n  \"fields\": [\n    {\n      \"column\": \"open\",\n      \"properties\": {\n        \"dtype\": \"number\",\n        \"std\": 613.9084748014941,\n        \"min\": 11.3,\n        \"max\": 1762.0,\n        \"num_unique_values\": 8,\n        \"samples\": [\n          27.297917132803633,\n          26.770000500000002,\n          1762.0\n        ],\n        \"semantic_type\": \"\",\n        \"description\": \"\"\n      }\n    },\n    {\n      \"column\": \"close\",\n      \"properties\": {\n        \"dtype\": \"number\",\n        \"std\": 613.9169761125186,\n        \"min\": 11.09,\n        \"max\": 1762.0,\n        \"num_unique_values\": 8,\n        \"samples\": [\n          27.29199203461975,\n          26.75,\n          1762.0\n        ],\n        \"semantic_type\": \"\",\n        \"description\": \"\"\n      }\n    },\n    {\n      \"column\": \"low\",\n      \"properties\": {\n        \"dtype\": \"number\",\n        \"std\": 614.0153312237503,\n        \"min\": 11.09,\n        \"max\": 1762.0,\n        \"num_unique_values\": 8,\n        \"samples\": [\n          26.97560155618615,\n          26.495,\n          1762.0\n        ],\n        \"semantic_type\": \"\",\n        \"description\": \"\"\n      }\n    },\n    {\n      \"column\": \"high\",\n      \"properties\": {\n        \"dtype\": \"number\",\n        \"std\": 613.8023384275283,\n        \"min\": 11.526100602307396,\n        \"max\": 1762.0,\n        \"num_unique_values\": 8,\n        \"samples\": [\n          27.609977303064696,\n          27.1050005,\n          1762.0\n        ],\n        \"semantic_type\": \"\",\n        \"description\": \"\"\n      }\n    },\n    {\n      \"column\": \"volume\",\n      \"properties\": {\n        \"dtype\": \"number\",\n        \"std\": 78628224.01677947,\n        \"min\": 1762.0,\n        \"max\": 233872100.0,\n        \"num_unique_values\": 8,\n        \"samples\": [\n          19969065.947786607,\n          16390700.0,\n          1762.0\n        ],\n        \"semantic_type\": \"\",\n        \"description\": \"\"\n      }\n    }\n  ]\n}"
            }
          },
          "metadata": {},
          "execution_count": 134
        }
      ]
    },
    {
      "cell_type": "code",
      "source": [
        "df_yahoo.isnull().sum()"
      ],
      "metadata": {
        "colab": {
          "base_uri": "https://localhost:8080/"
        },
        "id": "nyYyrDSrHbps",
        "outputId": "9ecd98f5-d615-43ed-a9dd-b0d82847d3af"
      },
      "execution_count": 135,
      "outputs": [
        {
          "output_type": "execute_result",
          "data": {
            "text/plain": [
              "date      0\n",
              "symbol    0\n",
              "open      0\n",
              "close     0\n",
              "low       0\n",
              "high      0\n",
              "volume    0\n",
              "dtype: int64"
            ]
          },
          "metadata": {},
          "execution_count": 135
        }
      ]
    },
    {
      "cell_type": "markdown",
      "source": [
        "There are no missing values in the YAHOO dataset, which apparently indicates a good state of our data."
      ],
      "metadata": {
        "id": "REGST09DInkJ"
      }
    },
    {
      "cell_type": "markdown",
      "source": [
        "# 5. Clean YAHOO data :"
      ],
      "metadata": {
        "id": "i_1RgZ33I3QS"
      }
    },
    {
      "cell_type": "markdown",
      "source": [
        "5.1 Setting the Index for the Data Frame"
      ],
      "metadata": {
        "id": "QaX8vEMPJQfI"
      }
    },
    {
      "cell_type": "code",
      "source": [
        "print(df_yahoo.date.dtype)"
      ],
      "metadata": {
        "colab": {
          "base_uri": "https://localhost:8080/"
        },
        "id": "zpa6UiQcIT_8",
        "outputId": "f195dbd9-9698-4516-c87e-c2765cef582f"
      },
      "execution_count": 136,
      "outputs": [
        {
          "output_type": "stream",
          "name": "stdout",
          "text": [
            "object\n"
          ]
        }
      ]
    },
    {
      "cell_type": "code",
      "source": [
        "df_yahoo['date'] = pd.to_datetime(df_yahoo['date'])\n",
        "print(df_yahoo.date.dtype)"
      ],
      "metadata": {
        "colab": {
          "base_uri": "https://localhost:8080/"
        },
        "id": "3fSkUDpZI7Dg",
        "outputId": "d23bef7d-4ea2-4e2c-c5b8-1ddacd706817"
      },
      "execution_count": 137,
      "outputs": [
        {
          "output_type": "stream",
          "name": "stdout",
          "text": [
            "datetime64[ns]\n"
          ]
        }
      ]
    },
    {
      "cell_type": "code",
      "source": [
        "df_yahoo = df_yahoo.set_index('date')\n",
        "df_yahoo.head()"
      ],
      "metadata": {
        "colab": {
          "base_uri": "https://localhost:8080/",
          "height": 238
        },
        "id": "pUYBu5wAJGhC",
        "outputId": "a4a58cfa-4aee-41a4-966d-01e68a612a03"
      },
      "execution_count": 138,
      "outputs": [
        {
          "output_type": "execute_result",
          "data": {
            "text/plain": [
              "           symbol       open      close        low       high      volume\n",
              "date                                                                     \n",
              "2010-01-04   YHOO  16.940001  17.100000  16.879999  17.200001  16587400.0\n",
              "2010-01-05   YHOO  17.219999  17.230000  17.000000  17.230000  11718100.0\n",
              "2010-01-06   YHOO  17.170000  17.170000  17.070000  17.299999  16422000.0\n",
              "2010-01-07   YHOO  16.809999  16.700001  16.570000  16.900000  31816300.0\n",
              "2010-01-08   YHOO  16.680000  16.700001  16.620001  16.760000  15470000.0"
            ],
            "text/html": [
              "\n",
              "  <div id=\"df-554851be-ec60-4997-b135-e8fb4e811277\" class=\"colab-df-container\">\n",
              "    <div>\n",
              "<style scoped>\n",
              "    .dataframe tbody tr th:only-of-type {\n",
              "        vertical-align: middle;\n",
              "    }\n",
              "\n",
              "    .dataframe tbody tr th {\n",
              "        vertical-align: top;\n",
              "    }\n",
              "\n",
              "    .dataframe thead th {\n",
              "        text-align: right;\n",
              "    }\n",
              "</style>\n",
              "<table border=\"1\" class=\"dataframe\">\n",
              "  <thead>\n",
              "    <tr style=\"text-align: right;\">\n",
              "      <th></th>\n",
              "      <th>symbol</th>\n",
              "      <th>open</th>\n",
              "      <th>close</th>\n",
              "      <th>low</th>\n",
              "      <th>high</th>\n",
              "      <th>volume</th>\n",
              "    </tr>\n",
              "    <tr>\n",
              "      <th>date</th>\n",
              "      <th></th>\n",
              "      <th></th>\n",
              "      <th></th>\n",
              "      <th></th>\n",
              "      <th></th>\n",
              "      <th></th>\n",
              "    </tr>\n",
              "  </thead>\n",
              "  <tbody>\n",
              "    <tr>\n",
              "      <th>2010-01-04</th>\n",
              "      <td>YHOO</td>\n",
              "      <td>16.940001</td>\n",
              "      <td>17.100000</td>\n",
              "      <td>16.879999</td>\n",
              "      <td>17.200001</td>\n",
              "      <td>16587400.0</td>\n",
              "    </tr>\n",
              "    <tr>\n",
              "      <th>2010-01-05</th>\n",
              "      <td>YHOO</td>\n",
              "      <td>17.219999</td>\n",
              "      <td>17.230000</td>\n",
              "      <td>17.000000</td>\n",
              "      <td>17.230000</td>\n",
              "      <td>11718100.0</td>\n",
              "    </tr>\n",
              "    <tr>\n",
              "      <th>2010-01-06</th>\n",
              "      <td>YHOO</td>\n",
              "      <td>17.170000</td>\n",
              "      <td>17.170000</td>\n",
              "      <td>17.070000</td>\n",
              "      <td>17.299999</td>\n",
              "      <td>16422000.0</td>\n",
              "    </tr>\n",
              "    <tr>\n",
              "      <th>2010-01-07</th>\n",
              "      <td>YHOO</td>\n",
              "      <td>16.809999</td>\n",
              "      <td>16.700001</td>\n",
              "      <td>16.570000</td>\n",
              "      <td>16.900000</td>\n",
              "      <td>31816300.0</td>\n",
              "    </tr>\n",
              "    <tr>\n",
              "      <th>2010-01-08</th>\n",
              "      <td>YHOO</td>\n",
              "      <td>16.680000</td>\n",
              "      <td>16.700001</td>\n",
              "      <td>16.620001</td>\n",
              "      <td>16.760000</td>\n",
              "      <td>15470000.0</td>\n",
              "    </tr>\n",
              "  </tbody>\n",
              "</table>\n",
              "</div>\n",
              "    <div class=\"colab-df-buttons\">\n",
              "\n",
              "  <div class=\"colab-df-container\">\n",
              "    <button class=\"colab-df-convert\" onclick=\"convertToInteractive('df-554851be-ec60-4997-b135-e8fb4e811277')\"\n",
              "            title=\"Convert this dataframe to an interactive table.\"\n",
              "            style=\"display:none;\">\n",
              "\n",
              "  <svg xmlns=\"http://www.w3.org/2000/svg\" height=\"24px\" viewBox=\"0 -960 960 960\">\n",
              "    <path d=\"M120-120v-720h720v720H120Zm60-500h600v-160H180v160Zm220 220h160v-160H400v160Zm0 220h160v-160H400v160ZM180-400h160v-160H180v160Zm440 0h160v-160H620v160ZM180-180h160v-160H180v160Zm440 0h160v-160H620v160Z\"/>\n",
              "  </svg>\n",
              "    </button>\n",
              "\n",
              "  <style>\n",
              "    .colab-df-container {\n",
              "      display:flex;\n",
              "      gap: 12px;\n",
              "    }\n",
              "\n",
              "    .colab-df-convert {\n",
              "      background-color: #E8F0FE;\n",
              "      border: none;\n",
              "      border-radius: 50%;\n",
              "      cursor: pointer;\n",
              "      display: none;\n",
              "      fill: #1967D2;\n",
              "      height: 32px;\n",
              "      padding: 0 0 0 0;\n",
              "      width: 32px;\n",
              "    }\n",
              "\n",
              "    .colab-df-convert:hover {\n",
              "      background-color: #E2EBFA;\n",
              "      box-shadow: 0px 1px 2px rgba(60, 64, 67, 0.3), 0px 1px 3px 1px rgba(60, 64, 67, 0.15);\n",
              "      fill: #174EA6;\n",
              "    }\n",
              "\n",
              "    .colab-df-buttons div {\n",
              "      margin-bottom: 4px;\n",
              "    }\n",
              "\n",
              "    [theme=dark] .colab-df-convert {\n",
              "      background-color: #3B4455;\n",
              "      fill: #D2E3FC;\n",
              "    }\n",
              "\n",
              "    [theme=dark] .colab-df-convert:hover {\n",
              "      background-color: #434B5C;\n",
              "      box-shadow: 0px 1px 3px 1px rgba(0, 0, 0, 0.15);\n",
              "      filter: drop-shadow(0px 1px 2px rgba(0, 0, 0, 0.3));\n",
              "      fill: #FFFFFF;\n",
              "    }\n",
              "  </style>\n",
              "\n",
              "    <script>\n",
              "      const buttonEl =\n",
              "        document.querySelector('#df-554851be-ec60-4997-b135-e8fb4e811277 button.colab-df-convert');\n",
              "      buttonEl.style.display =\n",
              "        google.colab.kernel.accessAllowed ? 'block' : 'none';\n",
              "\n",
              "      async function convertToInteractive(key) {\n",
              "        const element = document.querySelector('#df-554851be-ec60-4997-b135-e8fb4e811277');\n",
              "        const dataTable =\n",
              "          await google.colab.kernel.invokeFunction('convertToInteractive',\n",
              "                                                    [key], {});\n",
              "        if (!dataTable) return;\n",
              "\n",
              "        const docLinkHtml = 'Like what you see? Visit the ' +\n",
              "          '<a target=\"_blank\" href=https://colab.research.google.com/notebooks/data_table.ipynb>data table notebook</a>'\n",
              "          + ' to learn more about interactive tables.';\n",
              "        element.innerHTML = '';\n",
              "        dataTable['output_type'] = 'display_data';\n",
              "        await google.colab.output.renderOutput(dataTable, element);\n",
              "        const docLink = document.createElement('div');\n",
              "        docLink.innerHTML = docLinkHtml;\n",
              "        element.appendChild(docLink);\n",
              "      }\n",
              "    </script>\n",
              "  </div>\n",
              "\n",
              "\n",
              "<div id=\"df-44e6218c-ae29-4628-94d4-d5f4dff65d3b\">\n",
              "  <button class=\"colab-df-quickchart\" onclick=\"quickchart('df-44e6218c-ae29-4628-94d4-d5f4dff65d3b')\"\n",
              "            title=\"Suggest charts\"\n",
              "            style=\"display:none;\">\n",
              "\n",
              "<svg xmlns=\"http://www.w3.org/2000/svg\" height=\"24px\"viewBox=\"0 0 24 24\"\n",
              "     width=\"24px\">\n",
              "    <g>\n",
              "        <path d=\"M19 3H5c-1.1 0-2 .9-2 2v14c0 1.1.9 2 2 2h14c1.1 0 2-.9 2-2V5c0-1.1-.9-2-2-2zM9 17H7v-7h2v7zm4 0h-2V7h2v10zm4 0h-2v-4h2v4z\"/>\n",
              "    </g>\n",
              "</svg>\n",
              "  </button>\n",
              "\n",
              "<style>\n",
              "  .colab-df-quickchart {\n",
              "      --bg-color: #E8F0FE;\n",
              "      --fill-color: #1967D2;\n",
              "      --hover-bg-color: #E2EBFA;\n",
              "      --hover-fill-color: #174EA6;\n",
              "      --disabled-fill-color: #AAA;\n",
              "      --disabled-bg-color: #DDD;\n",
              "  }\n",
              "\n",
              "  [theme=dark] .colab-df-quickchart {\n",
              "      --bg-color: #3B4455;\n",
              "      --fill-color: #D2E3FC;\n",
              "      --hover-bg-color: #434B5C;\n",
              "      --hover-fill-color: #FFFFFF;\n",
              "      --disabled-bg-color: #3B4455;\n",
              "      --disabled-fill-color: #666;\n",
              "  }\n",
              "\n",
              "  .colab-df-quickchart {\n",
              "    background-color: var(--bg-color);\n",
              "    border: none;\n",
              "    border-radius: 50%;\n",
              "    cursor: pointer;\n",
              "    display: none;\n",
              "    fill: var(--fill-color);\n",
              "    height: 32px;\n",
              "    padding: 0;\n",
              "    width: 32px;\n",
              "  }\n",
              "\n",
              "  .colab-df-quickchart:hover {\n",
              "    background-color: var(--hover-bg-color);\n",
              "    box-shadow: 0 1px 2px rgba(60, 64, 67, 0.3), 0 1px 3px 1px rgba(60, 64, 67, 0.15);\n",
              "    fill: var(--button-hover-fill-color);\n",
              "  }\n",
              "\n",
              "  .colab-df-quickchart-complete:disabled,\n",
              "  .colab-df-quickchart-complete:disabled:hover {\n",
              "    background-color: var(--disabled-bg-color);\n",
              "    fill: var(--disabled-fill-color);\n",
              "    box-shadow: none;\n",
              "  }\n",
              "\n",
              "  .colab-df-spinner {\n",
              "    border: 2px solid var(--fill-color);\n",
              "    border-color: transparent;\n",
              "    border-bottom-color: var(--fill-color);\n",
              "    animation:\n",
              "      spin 1s steps(1) infinite;\n",
              "  }\n",
              "\n",
              "  @keyframes spin {\n",
              "    0% {\n",
              "      border-color: transparent;\n",
              "      border-bottom-color: var(--fill-color);\n",
              "      border-left-color: var(--fill-color);\n",
              "    }\n",
              "    20% {\n",
              "      border-color: transparent;\n",
              "      border-left-color: var(--fill-color);\n",
              "      border-top-color: var(--fill-color);\n",
              "    }\n",
              "    30% {\n",
              "      border-color: transparent;\n",
              "      border-left-color: var(--fill-color);\n",
              "      border-top-color: var(--fill-color);\n",
              "      border-right-color: var(--fill-color);\n",
              "    }\n",
              "    40% {\n",
              "      border-color: transparent;\n",
              "      border-right-color: var(--fill-color);\n",
              "      border-top-color: var(--fill-color);\n",
              "    }\n",
              "    60% {\n",
              "      border-color: transparent;\n",
              "      border-right-color: var(--fill-color);\n",
              "    }\n",
              "    80% {\n",
              "      border-color: transparent;\n",
              "      border-right-color: var(--fill-color);\n",
              "      border-bottom-color: var(--fill-color);\n",
              "    }\n",
              "    90% {\n",
              "      border-color: transparent;\n",
              "      border-bottom-color: var(--fill-color);\n",
              "    }\n",
              "  }\n",
              "</style>\n",
              "\n",
              "  <script>\n",
              "    async function quickchart(key) {\n",
              "      const quickchartButtonEl =\n",
              "        document.querySelector('#' + key + ' button');\n",
              "      quickchartButtonEl.disabled = true;  // To prevent multiple clicks.\n",
              "      quickchartButtonEl.classList.add('colab-df-spinner');\n",
              "      try {\n",
              "        const charts = await google.colab.kernel.invokeFunction(\n",
              "            'suggestCharts', [key], {});\n",
              "      } catch (error) {\n",
              "        console.error('Error during call to suggestCharts:', error);\n",
              "      }\n",
              "      quickchartButtonEl.classList.remove('colab-df-spinner');\n",
              "      quickchartButtonEl.classList.add('colab-df-quickchart-complete');\n",
              "    }\n",
              "    (() => {\n",
              "      let quickchartButtonEl =\n",
              "        document.querySelector('#df-44e6218c-ae29-4628-94d4-d5f4dff65d3b button');\n",
              "      quickchartButtonEl.style.display =\n",
              "        google.colab.kernel.accessAllowed ? 'block' : 'none';\n",
              "    })();\n",
              "  </script>\n",
              "</div>\n",
              "    </div>\n",
              "  </div>\n"
            ],
            "application/vnd.google.colaboratory.intrinsic+json": {
              "type": "dataframe",
              "variable_name": "df_yahoo",
              "summary": "{\n  \"name\": \"df_yahoo\",\n  \"rows\": 1762,\n  \"fields\": [\n    {\n      \"column\": \"date\",\n      \"properties\": {\n        \"dtype\": \"date\",\n        \"min\": \"2010-01-04 00:00:00\",\n        \"max\": \"2016-12-30 00:00:00\",\n        \"num_unique_values\": 1762,\n        \"samples\": [\n          \"2013-11-06 00:00:00\",\n          \"2010-11-04 00:00:00\",\n          \"2011-08-26 00:00:00\"\n        ],\n        \"semantic_type\": \"\",\n        \"description\": \"\"\n      }\n    },\n    {\n      \"column\": \"symbol\",\n      \"properties\": {\n        \"dtype\": \"category\",\n        \"num_unique_values\": 1,\n        \"samples\": [\n          \"YHOO\"\n        ],\n        \"semantic_type\": \"\",\n        \"description\": \"\"\n      }\n    },\n    {\n      \"column\": \"open\",\n      \"properties\": {\n        \"dtype\": \"number\",\n        \"std\": 11.41261214827071,\n        \"min\": 11.3,\n        \"max\": 52.279999,\n        \"num_unique_values\": 1171,\n        \"samples\": [\n          37.830002\n        ],\n        \"semantic_type\": \"\",\n        \"description\": \"\"\n      }\n    },\n    {\n      \"column\": \"close\",\n      \"properties\": {\n        \"dtype\": \"number\",\n        \"std\": 11.40684605629836,\n        \"min\": 11.09,\n        \"max\": 52.369999,\n        \"num_unique_values\": 1190,\n        \"samples\": [\n          20.120001\n        ],\n        \"semantic_type\": \"\",\n        \"description\": \"\"\n      }\n    },\n    {\n      \"column\": \"low\",\n      \"properties\": {\n        \"dtype\": \"number\",\n        \"std\": 11.28973626956568,\n        \"min\": 11.09,\n        \"max\": 51.639999,\n        \"num_unique_values\": 1194,\n        \"samples\": [\n          29.5\n        ],\n        \"semantic_type\": \"\",\n        \"description\": \"\"\n      }\n    },\n    {\n      \"column\": \"high\",\n      \"properties\": {\n        \"dtype\": \"number\",\n        \"std\": 11.526100602307396,\n        \"min\": 11.8,\n        \"max\": 52.619999,\n        \"num_unique_values\": 1183,\n        \"samples\": [\n          51.150002\n        ],\n        \"semantic_type\": \"\",\n        \"description\": \"\"\n      }\n    },\n    {\n      \"column\": \"volume\",\n      \"properties\": {\n        \"dtype\": \"number\",\n        \"std\": 13768512.187287765,\n        \"min\": 2586900.0,\n        \"max\": 233872100.0,\n        \"num_unique_values\": 1757,\n        \"samples\": [\n          16010000.0\n        ],\n        \"semantic_type\": \"\",\n        \"description\": \"\"\n      }\n    }\n  ]\n}"
            }
          },
          "metadata": {},
          "execution_count": 138
        }
      ]
    },
    {
      "cell_type": "markdown",
      "source": [
        "5.2 Setting the Frequency to Business Days :"
      ],
      "metadata": {
        "id": "OlnZrRn3JUcv"
      }
    },
    {
      "cell_type": "code",
      "source": [
        "df_yahoo.shape"
      ],
      "metadata": {
        "colab": {
          "base_uri": "https://localhost:8080/"
        },
        "id": "R5EtHdFPJIP7",
        "outputId": "62470109-a6a9-4ea9-d731-34987c0ec92d"
      },
      "execution_count": 139,
      "outputs": [
        {
          "output_type": "execute_result",
          "data": {
            "text/plain": [
              "(1762, 6)"
            ]
          },
          "metadata": {},
          "execution_count": 139
        }
      ]
    },
    {
      "cell_type": "code",
      "source": [
        "data_yahoo = df_yahoo.asfreq('b')\n",
        "data_yahoo.shape"
      ],
      "metadata": {
        "colab": {
          "base_uri": "https://localhost:8080/"
        },
        "id": "zePfrsD2JUE3",
        "outputId": "ad7b8162-a898-46b2-b836-2b0c5014fa44"
      },
      "execution_count": 140,
      "outputs": [
        {
          "output_type": "execute_result",
          "data": {
            "text/plain": [
              "(1825, 6)"
            ]
          },
          "metadata": {},
          "execution_count": 140
        }
      ]
    },
    {
      "cell_type": "code",
      "source": [
        "data_yahoo.tail()\n",
        "data_yahoo.isnull().sum()"
      ],
      "metadata": {
        "colab": {
          "base_uri": "https://localhost:8080/"
        },
        "id": "IkliYtUVJdIL",
        "outputId": "e6d4ac47-a119-452a-ca3b-b2f7a420463d"
      },
      "execution_count": 141,
      "outputs": [
        {
          "output_type": "execute_result",
          "data": {
            "text/plain": [
              "symbol    63\n",
              "open      63\n",
              "close     63\n",
              "low       63\n",
              "high      63\n",
              "volume    63\n",
              "dtype: int64"
            ]
          },
          "metadata": {},
          "execution_count": 141
        }
      ]
    },
    {
      "cell_type": "markdown",
      "source": [
        "Certainly there would be missing value in the introduced rows"
      ],
      "metadata": {
        "id": "hYRttua4Jgxp"
      }
    },
    {
      "cell_type": "markdown",
      "source": [
        "5.3 Getting the Dates of Missing Values :"
      ],
      "metadata": {
        "id": "QbrX2oSeJjaf"
      }
    },
    {
      "cell_type": "code",
      "source": [
        "null_data = data_yahoo[data_yahoo.isnull().any(axis=1)]\n",
        "null_data.head()\n",
        "null_dates = null_data.index.tolist()\n",
        "print(null_dates)"
      ],
      "metadata": {
        "colab": {
          "base_uri": "https://localhost:8080/"
        },
        "id": "-cRoSI9RJnt3",
        "outputId": "4e8a1db8-9fc2-4252-d9c7-12e3ddc0944a"
      },
      "execution_count": 142,
      "outputs": [
        {
          "output_type": "stream",
          "name": "stdout",
          "text": [
            "[Timestamp('2010-01-18 00:00:00'), Timestamp('2010-02-15 00:00:00'), Timestamp('2010-04-02 00:00:00'), Timestamp('2010-05-31 00:00:00'), Timestamp('2010-07-05 00:00:00'), Timestamp('2010-09-06 00:00:00'), Timestamp('2010-11-25 00:00:00'), Timestamp('2010-12-24 00:00:00'), Timestamp('2011-01-17 00:00:00'), Timestamp('2011-02-21 00:00:00'), Timestamp('2011-04-22 00:00:00'), Timestamp('2011-05-30 00:00:00'), Timestamp('2011-07-04 00:00:00'), Timestamp('2011-09-05 00:00:00'), Timestamp('2011-11-24 00:00:00'), Timestamp('2011-12-26 00:00:00'), Timestamp('2012-01-02 00:00:00'), Timestamp('2012-01-16 00:00:00'), Timestamp('2012-02-20 00:00:00'), Timestamp('2012-04-06 00:00:00'), Timestamp('2012-05-28 00:00:00'), Timestamp('2012-07-04 00:00:00'), Timestamp('2012-09-03 00:00:00'), Timestamp('2012-10-29 00:00:00'), Timestamp('2012-10-30 00:00:00'), Timestamp('2012-11-22 00:00:00'), Timestamp('2012-12-25 00:00:00'), Timestamp('2013-01-01 00:00:00'), Timestamp('2013-01-21 00:00:00'), Timestamp('2013-02-18 00:00:00'), Timestamp('2013-03-29 00:00:00'), Timestamp('2013-05-27 00:00:00'), Timestamp('2013-07-04 00:00:00'), Timestamp('2013-09-02 00:00:00'), Timestamp('2013-11-28 00:00:00'), Timestamp('2013-12-25 00:00:00'), Timestamp('2014-01-01 00:00:00'), Timestamp('2014-01-20 00:00:00'), Timestamp('2014-02-17 00:00:00'), Timestamp('2014-04-18 00:00:00'), Timestamp('2014-05-26 00:00:00'), Timestamp('2014-07-04 00:00:00'), Timestamp('2014-09-01 00:00:00'), Timestamp('2014-11-27 00:00:00'), Timestamp('2014-12-25 00:00:00'), Timestamp('2015-01-01 00:00:00'), Timestamp('2015-01-19 00:00:00'), Timestamp('2015-02-16 00:00:00'), Timestamp('2015-04-03 00:00:00'), Timestamp('2015-05-25 00:00:00'), Timestamp('2015-07-03 00:00:00'), Timestamp('2015-09-07 00:00:00'), Timestamp('2015-11-26 00:00:00'), Timestamp('2015-12-25 00:00:00'), Timestamp('2016-01-01 00:00:00'), Timestamp('2016-01-18 00:00:00'), Timestamp('2016-02-15 00:00:00'), Timestamp('2016-03-25 00:00:00'), Timestamp('2016-05-30 00:00:00'), Timestamp('2016-07-04 00:00:00'), Timestamp('2016-09-05 00:00:00'), Timestamp('2016-11-24 00:00:00'), Timestamp('2016-12-26 00:00:00')]\n"
          ]
        }
      ]
    },
    {
      "cell_type": "markdown",
      "source": [
        "5.4 Filtering out the Holidays :\n",
        "\n",
        "A quick check at the NYSE official website would help us know the list of [official holidays of NYSE](https://www.nyse.com/markets/hours-calendars).\n",
        "\n",
        "We use the `calendar` module and `datetime` module to check if a given date in the `null_dates` list is a holiday or not\n",
        "\n",
        "- Determining if that week or day name of the date in that month is a holiday or not. For example, Washington's Birthday is celebrated on the third Monday of February.\n",
        "- So we extract the week, day, month, year from a given date in `null_dates`, and check if the day falls between 15 and 21(the possible day range of third Monday) and if the week is Monday.\n",
        "- If yes, then it is a holiday. Then we append that date in the `holidays` list. We took a list of the dates when Good Friday occurs since there is no particular way to determine it.\n",
        "- Finally, after obtaining the entire list of `holidays`, we filter out the holidays dates from `null_dates` and store the non-holiday dates in the list `non_holidays`.\n",
        "\n",
        "Here’s the function that does that :"
      ],
      "metadata": {
        "id": "s4LnP6JLJr9A"
      }
    },
    {
      "cell_type": "code",
      "source": [
        "import calendar\n",
        "import datetime\n",
        "\n",
        "holidays = []\n",
        "\n",
        "for date in null_dates:\n",
        "    week, day, month, year = date.weekday(), date.day, date.month, date.year\n",
        "    week_day = calendar.day_name[week]\n",
        "\n",
        "    if month==1:\n",
        "        if day==1:\n",
        "            # New year day\n",
        "            holidays.append(date)\n",
        "        elif day==2 and week_day=='Monday':\n",
        "            # Observed New Year Day\n",
        "            holidays.append(date)\n",
        "        elif day>=15 and day<=21 and week_day=='Monday':\n",
        "            # Martin Luther King, Jr. Day\n",
        "            holidays.append(date)\n",
        "\n",
        "    elif month==2:\n",
        "        # Washington's Birthday\n",
        "        if day>=15 and day<=21 and week_day=='Monday':\n",
        "            holidays.append(date)\n",
        "\n",
        "    elif month==5:\n",
        "        # Memorial day\n",
        "        if day>=25 and day<=31 and week_day=='Monday':\n",
        "            holidays.append(date)\n",
        "\n",
        "    elif month==7:\n",
        "        # Independence day\n",
        "        if day==4:\n",
        "            holidays.append(date)\n",
        "        # Observed Independence  Day\n",
        "        elif day==5 and week_day=='Monday':\n",
        "            holidays.append(date)\n",
        "        elif day==3 and week_day=='Friday':\n",
        "            holidays.append(date)\n",
        "\n",
        "    elif month == 9:\n",
        "        # Labour day\n",
        "        if day>=1 and day<=7 and week_day=='Monday':\n",
        "            holidays.append(date)\n",
        "\n",
        "    elif month==11:\n",
        "        # Thanksgiving Day\n",
        "        if week_day=='Thursday' and day>=22 and day<=28:\n",
        "            holidays.append(date)\n",
        "\n",
        "    elif month==12:\n",
        "        # Christmas Day\n",
        "        if day==25:\n",
        "            holidays.append(date)\n",
        "        # Observed Christmas Day\n",
        "        elif day==24 and week_day=='Friday':\n",
        "            holidays.append(date)\n",
        "        elif day==26 and week_day=='Monday':\n",
        "            holidays.append(date)"
      ],
      "metadata": {
        "id": "_kzu5xbNJreJ"
      },
      "execution_count": 143,
      "outputs": []
    },
    {
      "cell_type": "code",
      "source": [
        "good_fridays = [ datetime.date(2010,4,2), datetime.date(2011,4,22), datetime.date(2012,4,6), datetime.date(2013,3,29), datetime.date(2014,4,18), datetime.date(2015,4,3), datetime.date(2016,3,25) ]\n",
        "holidays = holidays + [pd.to_datetime(date) for date in good_fridays]\n",
        "\n",
        "non_holidays = [x for x in null_dates if x not in holidays]\n",
        "print(non_holidays)"
      ],
      "metadata": {
        "colab": {
          "base_uri": "https://localhost:8080/"
        },
        "id": "1rgdTBYJKEhm",
        "outputId": "f73a53a9-0290-40ec-d1f8-4cd206104855"
      },
      "execution_count": 144,
      "outputs": [
        {
          "output_type": "stream",
          "name": "stdout",
          "text": [
            "[Timestamp('2012-10-29 00:00:00'), Timestamp('2012-10-30 00:00:00')]\n"
          ]
        }
      ]
    },
    {
      "cell_type": "markdown",
      "source": [
        "We find that the values are missing for October 29th and 30th of 2012."
      ],
      "metadata": {
        "id": "fOLULtz3KKPz"
      }
    },
    {
      "cell_type": "markdown",
      "source": [
        "5.5 Getting the Modified Data :"
      ],
      "metadata": {
        "id": "HQlVwUnlKNGs"
      }
    },
    {
      "cell_type": "code",
      "source": [
        "data_yahoo.shape"
      ],
      "metadata": {
        "colab": {
          "base_uri": "https://localhost:8080/"
        },
        "id": "Zf_PXIUMKQJu",
        "outputId": "fec41b01-3fbc-42e7-9539-73a8c8bbcf7a"
      },
      "execution_count": 145,
      "outputs": [
        {
          "output_type": "execute_result",
          "data": {
            "text/plain": [
              "(1825, 6)"
            ]
          },
          "metadata": {},
          "execution_count": 145
        }
      ]
    },
    {
      "cell_type": "code",
      "source": [
        "modified_df = data_yahoo.drop(holidays)\n",
        "modified_df.shape"
      ],
      "metadata": {
        "colab": {
          "base_uri": "https://localhost:8080/"
        },
        "id": "3FfFF-FfKTSf",
        "outputId": "74c39d76-94fe-4f94-a748-6e9d48cfebde"
      },
      "execution_count": 146,
      "outputs": [
        {
          "output_type": "execute_result",
          "data": {
            "text/plain": [
              "(1764, 6)"
            ]
          },
          "metadata": {},
          "execution_count": 146
        }
      ]
    },
    {
      "cell_type": "markdown",
      "source": [
        "# 6. Filling the Missing Values :\n",
        "\n",
        "Pandas provides some built-in methods to do this job.\n",
        "\n",
        "- `bfill` - used to backward fill or use the next valid observation to fill the missing values in the dataset.\n",
        "- `ffill` - used to forward fill or use the previous valid observation to fill the missing values in the dataset.\n",
        "- using `fillna(metohd='bfill')` is another way of achieving the job using backward filling. Similarly, one could use `ffill` or any other way like `mean()`.\n",
        "\n",
        "We will use `bfill()` to fill the two missing values.\n",
        "\n",
        "- The number of missing values in each column in `modified_data` using `isna().sum()`"
      ],
      "metadata": {
        "id": "05JBHr4yKZS1"
      }
    },
    {
      "cell_type": "code",
      "source": [
        "print(\"Before filling missing values:\\n\", modified_df.isna().sum())"
      ],
      "metadata": {
        "colab": {
          "base_uri": "https://localhost:8080/"
        },
        "id": "Bgajg-PrKenP",
        "outputId": "5d9bf84d-856e-4537-f7d2-c003b0c2f303"
      },
      "execution_count": 147,
      "outputs": [
        {
          "output_type": "stream",
          "name": "stdout",
          "text": [
            "Before filling missing values:\n",
            " symbol    2\n",
            "open      2\n",
            "close     2\n",
            "low       2\n",
            "high      2\n",
            "volume    2\n",
            "dtype: int64\n"
          ]
        }
      ]
    },
    {
      "cell_type": "code",
      "source": [
        "modified_df = modified_df.bfill(axis='rows')\n",
        "print(\"\\nAfter filling missing values:\\n\",modified_df.isna().sum())"
      ],
      "metadata": {
        "colab": {
          "base_uri": "https://localhost:8080/"
        },
        "id": "Q_YdQRwxKi6v",
        "outputId": "37b3b750-9734-407f-d5b3-010ee6b62f82"
      },
      "execution_count": 148,
      "outputs": [
        {
          "output_type": "stream",
          "name": "stdout",
          "text": [
            "\n",
            "After filling missing values:\n",
            " symbol    0\n",
            "open      0\n",
            "close     0\n",
            "low       0\n",
            "high      0\n",
            "volume    0\n",
            "dtype: int64\n"
          ]
        }
      ]
    },
    {
      "cell_type": "markdown",
      "source": [
        "# 7. Visualizing YAHOO Data :"
      ],
      "metadata": {
        "id": "84NbF4k0Kmuz"
      }
    },
    {
      "cell_type": "code",
      "execution_count": 149,
      "metadata": {
        "colab": {
          "base_uri": "https://localhost:8080/",
          "height": 270
        },
        "id": "attkiljjQV-P",
        "outputId": "4b5f924e-b9da-42e5-d737-192e51e0892e"
      },
      "outputs": [
        {
          "output_type": "display_data",
          "data": {
            "text/plain": [
              "<Figure size 640x480 with 1 Axes>"
            ],
            "image/png": "[encoded data removed]"
          },
          "metadata": {}
        }
      ],
      "source": [
        "def plotter(code):\n",
        "    global closing_stock\n",
        "    plt.subplot(211)\n",
        "    company_close = modified_df[modified_df['symbol']==code]\n",
        "    company_close = company_close.close.values.astype('float32')\n",
        "    company_close = company_close.reshape(-1, 1)\n",
        "    closing_stock = company_close\n",
        "    plt.xlabel('Time')\n",
        "    plt.ylabel(code + \" close stock prices\")\n",
        "    plt.title('prices Vs Time')\n",
        "    plt.grid(True)\n",
        "    plt.plot(company_close , 'b')\n",
        "    plt.show()\n",
        "\n",
        "plotter(\"YHOO\")"
      ]
    },
    {
      "cell_type": "markdown",
      "source": [
        "# 8. Splitting the Data :"
      ],
      "metadata": {
        "id": "FPdwE3yrKsTC"
      }
    },
    {
      "cell_type": "code",
      "source": [
        "n_train = int(len(closing_stock) * 0.8)\n",
        "n_remaining = len(closing_stock) - n_train\n",
        "\n",
        "n_val = int(n_remaining * 0.5)\n",
        "n_test = n_remaining - n_val\n",
        "\n",
        "print(\"Train samples:\",n_train, \"Validation Samples:\",n_val,\"Test Samples:\", n_test)"
      ],
      "metadata": {
        "colab": {
          "base_uri": "https://localhost:8080/"
        },
        "id": "wZmlY-mqKvzx",
        "outputId": "80a8a2e4-ace0-41bd-fe55-2e2438617f82"
      },
      "execution_count": 150,
      "outputs": [
        {
          "output_type": "stream",
          "name": "stdout",
          "text": [
            "Train samples: 1411 Validation Samples: 176 Test Samples: 177\n"
          ]
        }
      ]
    },
    {
      "cell_type": "markdown",
      "source": [
        "We will :\n",
        "\n",
        "- Slice the `closing_stock` from 0 till `n_train` to form the `train_data` set.\n",
        "- Slice the `closing_stock` from `n_train` till `n_train+n_val` to form the `val_data`, the validation set.\n",
        "- Slice the `closing_stock` from `n_train+n_val` till the end to form the `test_data` set."
      ],
      "metadata": {
        "id": "zEvykp1sK0hP"
      }
    },
    {
      "cell_type": "code",
      "source": [
        "train_data = closing_stock[0:n_train]\n",
        "print(train_data.shape)\n",
        "\n",
        "val_data = closing_stock[n_train:n_train+n_val]\n",
        "print(val_data.shape)\n",
        "\n",
        "test_data = closing_stock[n_train+n_val:]\n",
        "print(test_data.shape)"
      ],
      "metadata": {
        "colab": {
          "base_uri": "https://localhost:8080/"
        },
        "id": "05b9Dqr5K4kG",
        "outputId": "e518ffdf-65ea-46bc-d3c4-62051779e6cf"
      },
      "execution_count": 151,
      "outputs": [
        {
          "output_type": "stream",
          "name": "stdout",
          "text": [
            "(1411, 1)\n",
            "(176, 1)\n",
            "(177, 1)\n"
          ]
        }
      ]
    },
    {
      "cell_type": "markdown",
      "source": [
        "# 9. Feature Scaling :\n",
        "\n",
        "We will use `MinMaxScaler`, from `sklearn` sklearn library to scale the values into the range of 0 and 1.\n",
        "\n",
        "- Use `fit_transform` to transform features by scaling each feature. We shall do this fitting on the train data `train_data`.\n",
        "- Then, use the `transform` method on the same scaler to transform the values of `val_data` and `test_data`."
      ],
      "metadata": {
        "id": "lSnmdBBnK7IC"
      }
    },
    {
      "cell_type": "code",
      "source": [
        "from sklearn.preprocessing import MinMaxScaler\n",
        "\n",
        "scaler = MinMaxScaler(feature_range=(0, 1))\n",
        "\n",
        "train = scaler.fit_transform(train_data)\n",
        "val = scaler.transform(val_data)\n",
        "test = scaler.transform(test_data)"
      ],
      "metadata": {
        "id": "mdKnr1GOLCN8"
      },
      "execution_count": 152,
      "outputs": []
    },
    {
      "cell_type": "markdown",
      "source": [
        "## 10. Create the Datasets :\n",
        "\n",
        "We’re using GRU, which is one of the quite useful deep learning algorithms to deal with time-series data.\n",
        "\n",
        "It expects the input data to be three-dimensional :\n",
        "\n",
        "1. The batch size\n",
        "2. The timestamps\n",
        "3. The number of features.\n",
        "\n",
        "To create the data set, we define the `create_dataset` function.\n",
        "\n",
        "The logic is the following, we will be traversing till the last third row of the dataset, combine every two consecutive values as one input, and put the third value as the value to be predicted (ground truth of prediction)."
      ],
      "metadata": {
        "id": "X1WjXSkiLGj1"
      }
    },
    {
      "cell_type": "code",
      "source": [
        "def create_dataset(data , n_features):\n",
        "    dataX, dataY = [], []\n",
        "    for i in range(len(data)-n_features-1):\n",
        "        a = data[i:(i+n_features), 0]\n",
        "        dataX.append(a)\n",
        "        dataY.append(data[i + n_features, 0])\n",
        "    return np.array(dataX), np.array(dataY)"
      ],
      "metadata": {
        "id": "RHhDNLEeLLka"
      },
      "execution_count": 153,
      "outputs": []
    },
    {
      "cell_type": "code",
      "source": [
        "n_features = 2\n",
        "\n",
        "train_X, train_Y = create_dataset(train, n_features)\n",
        "val_X, val_Y = create_dataset(val, n_features)\n",
        "test_X, test_Y = create_dataset(test, n_features)\n",
        "\n",
        "print(train_X.shape , train_Y.shape , val_X.shape , val_Y.shape, test_X.shape , test_Y.shape)"
      ],
      "metadata": {
        "colab": {
          "base_uri": "https://localhost:8080/"
        },
        "id": "EQWqzSw-ErzT",
        "outputId": "35cd5f8d-6406-442a-91bd-b7ed31c71961"
      },
      "execution_count": 154,
      "outputs": [
        {
          "output_type": "stream",
          "name": "stdout",
          "text": [
            "(1408, 2) (1408,) (173, 2) (173,) (174, 2) (174,)\n"
          ]
        }
      ]
    },
    {
      "cell_type": "code",
      "source": [
        "train_X = train_X.reshape(train_X.shape[0] , 1 ,train_X.shape[1])\n",
        "val_X = val_X.reshape(val_X.shape[0] , 1 ,val_X.shape[1])\n",
        "test_X = test_X.reshape(test_X.shape[0] , 1 ,test_X.shape[1])\n",
        "\n",
        "print(train_X.shape , train_Y.shape , val_X.shape , val_Y.shape, test_X.shape , test_Y.shape)"
      ],
      "metadata": {
        "colab": {
          "base_uri": "https://localhost:8080/"
        },
        "id": "2soknraJbQ2n",
        "outputId": "541219e2-0672-4e4b-f3fa-644b45338084"
      },
      "execution_count": 155,
      "outputs": [
        {
          "output_type": "stream",
          "name": "stdout",
          "text": [
            "(1408, 1, 2) (1408,) (173, 1, 2) (173,) (174, 1, 2) (174,)\n"
          ]
        }
      ]
    },
    {
      "cell_type": "markdown",
      "source": [
        "# 11. Building the Model :"
      ],
      "metadata": {
        "id": "l60rJYtwE0PE"
      }
    },
    {
      "cell_type": "code",
      "source": [
        "import tensorflow as tf\n",
        "tf.random.set_seed(42)\n",
        "\n",
        "from tensorflow import keras\n",
        "from tensorflow.keras import layers\n",
        "from tensorflow.keras.optimizers import Adam"
      ],
      "metadata": {
        "id": "f4FOF9U5E3TD"
      },
      "execution_count": 156,
      "outputs": []
    },
    {
      "cell_type": "code",
      "source": [
        "model = keras.Sequential()\n",
        "\n",
        "# First GRU layer\n",
        "model.add(layers.GRU(units=100, return_sequences=True, input_shape=(1,n_features), activation='tanh'))\n",
        "model.add(layers.Dropout(0.2))\n",
        "\n",
        "# Second GRU layer\n",
        "model.add(layers.GRU(units=150, return_sequences=True, input_shape=(1,n_features), activation='tanh'))\n",
        "model.add(layers.Dropout(0.2))\n",
        "\n",
        "# Third GRU layer\n",
        "model.add(layers.GRU(units=100, activation='tanh'))\n",
        "model.add(layers.Dropout(0.2))\n",
        "\n",
        "# The output layer\n",
        "model.add(layers.Dense(units=1, kernel_initializer='he_uniform', activation='linear'))"
      ],
      "metadata": {
        "id": "qrqIc1a0Gukm"
      },
      "execution_count": 157,
      "outputs": []
    },
    {
      "cell_type": "code",
      "source": [
        "model.compile(loss='mean_squared_error', optimizer=Adam(learning_rate = 0.0005) , metrics = ['mean_squared_error'])"
      ],
      "metadata": {
        "id": "1bpC067dFBZU"
      },
      "execution_count": 158,
      "outputs": []
    },
    {
      "cell_type": "code",
      "source": [
        "print(model.summary())"
      ],
      "metadata": {
        "colab": {
          "base_uri": "https://localhost:8080/"
        },
        "id": "9nerfCNBS-7c",
        "outputId": "a75fe565-e4ad-47ad-f116-aff880e00f83"
      },
      "execution_count": 159,
      "outputs": [
        {
          "output_type": "stream",
          "name": "stdout",
          "text": [
            "Model: \"sequential_5\"\n",
            "_________________________________________________________________\n",
            " Layer (type)                Output Shape              Param #   \n",
            "=================================================================\n",
            " gru_15 (GRU)                (None, 1, 100)            31200     \n",
            "                                                                 \n",
            " dropout_15 (Dropout)        (None, 1, 100)            0         \n",
            "                                                                 \n",
            " gru_16 (GRU)                (None, 1, 150)            113400    \n",
            "                                                                 \n",
            " dropout_16 (Dropout)        (None, 1, 150)            0         \n",
            "                                                                 \n",
            " gru_17 (GRU)                (None, 100)               75600     \n",
            "                                                                 \n",
            " dropout_17 (Dropout)        (None, 100)               0         \n",
            "                                                                 \n",
            " dense_5 (Dense)             (None, 1)                 101       \n",
            "                                                                 \n",
            "=================================================================\n",
            "Total params: 220301 (860.55 KB)\n",
            "Trainable params: 220301 (860.55 KB)\n",
            "Non-trainable params: 0 (0.00 Byte)\n",
            "_________________________________________________________________\n",
            "None\n"
          ]
        }
      ]
    },
    {
      "cell_type": "code",
      "source": [
        "history = model.fit(train_X,train_Y,epochs=100,batch_size=128, verbose=1, validation_data = (val_X,val_Y))"
      ],
      "metadata": {
        "colab": {
          "base_uri": "https://localhost:8080/"
        },
        "id": "-LLPbPfCTBXU",
        "outputId": "b0c72a38-29ed-4640-cc0a-84826f114f30"
      },
      "execution_count": 160,
      "outputs": [
        {
          "output_type": "stream",
          "name": "stdout",
          "text": [
            "Epoch 1/100\n",
            "11/11 [==============================] - 6s 139ms/step - loss: 0.1412 - mean_squared_error: 0.1412 - val_loss: 0.1083 - val_mean_squared_error: 0.1083\n",
            "Epoch 2/100\n",
            "11/11 [==============================] - 0s 18ms/step - loss: 0.0439 - mean_squared_error: 0.0439 - val_loss: 0.0011 - val_mean_squared_error: 0.0011\n",
            "Epoch 3/100\n",
            "11/11 [==============================] - 0s 19ms/step - loss: 0.0269 - mean_squared_error: 0.0269 - val_loss: 9.8769e-04 - val_mean_squared_error: 9.8769e-04\n",
            "Epoch 4/100\n",
            "11/11 [==============================] - 0s 19ms/step - loss: 0.0142 - mean_squared_error: 0.0142 - val_loss: 0.0047 - val_mean_squared_error: 0.0047\n",
            "Epoch 5/100\n",
            "11/11 [==============================] - 0s 18ms/step - loss: 0.0065 - mean_squared_error: 0.0065 - val_loss: 5.3194e-04 - val_mean_squared_error: 5.3194e-04\n",
            "Epoch 6/100\n",
            "11/11 [==============================] - 0s 21ms/step - loss: 0.0027 - mean_squared_error: 0.0027 - val_loss: 0.0011 - val_mean_squared_error: 0.0011\n",
            "Epoch 7/100\n",
            "11/11 [==============================] - 0s 18ms/step - loss: 0.0022 - mean_squared_error: 0.0022 - val_loss: 4.1081e-04 - val_mean_squared_error: 4.1081e-04\n",
            "Epoch 8/100\n",
            "11/11 [==============================] - 0s 19ms/step - loss: 0.0023 - mean_squared_error: 0.0023 - val_loss: 9.3199e-04 - val_mean_squared_error: 9.3199e-04\n",
            "Epoch 9/100\n",
            "11/11 [==============================] - 0s 19ms/step - loss: 0.0022 - mean_squared_error: 0.0022 - val_loss: 4.0473e-04 - val_mean_squared_error: 4.0473e-04\n",
            "Epoch 10/100\n",
            "11/11 [==============================] - 0s 17ms/step - loss: 0.0022 - mean_squared_error: 0.0022 - val_loss: 4.7630e-04 - val_mean_squared_error: 4.7630e-04\n",
            "Epoch 11/100\n",
            "11/11 [==============================] - 0s 20ms/step - loss: 0.0021 - mean_squared_error: 0.0021 - val_loss: 4.2111e-04 - val_mean_squared_error: 4.2111e-04\n",
            "Epoch 12/100\n",
            "11/11 [==============================] - 0s 18ms/step - loss: 0.0021 - mean_squared_error: 0.0021 - val_loss: 4.5392e-04 - val_mean_squared_error: 4.5392e-04\n",
            "Epoch 13/100\n",
            "11/11 [==============================] - 0s 19ms/step - loss: 0.0019 - mean_squared_error: 0.0019 - val_loss: 5.1935e-04 - val_mean_squared_error: 5.1935e-04\n",
            "Epoch 14/100\n",
            "11/11 [==============================] - 0s 18ms/step - loss: 0.0021 - mean_squared_error: 0.0021 - val_loss: 4.8964e-04 - val_mean_squared_error: 4.8964e-04\n",
            "Epoch 15/100\n",
            "11/11 [==============================] - 0s 19ms/step - loss: 0.0021 - mean_squared_error: 0.0021 - val_loss: 4.4655e-04 - val_mean_squared_error: 4.4655e-04\n",
            "Epoch 16/100\n",
            "11/11 [==============================] - 0s 23ms/step - loss: 0.0018 - mean_squared_error: 0.0018 - val_loss: 4.4808e-04 - val_mean_squared_error: 4.4808e-04\n",
            "Epoch 17/100\n",
            "11/11 [==============================] - 0s 32ms/step - loss: 0.0021 - mean_squared_error: 0.0021 - val_loss: 4.8098e-04 - val_mean_squared_error: 4.8098e-04\n",
            "Epoch 18/100\n",
            "11/11 [==============================] - 0s 29ms/step - loss: 0.0019 - mean_squared_error: 0.0019 - val_loss: 3.9289e-04 - val_mean_squared_error: 3.9289e-04\n",
            "Epoch 19/100\n",
            "11/11 [==============================] - 0s 31ms/step - loss: 0.0019 - mean_squared_error: 0.0019 - val_loss: 5.5885e-04 - val_mean_squared_error: 5.5885e-04\n",
            "Epoch 20/100\n",
            "11/11 [==============================] - 0s 30ms/step - loss: 0.0019 - mean_squared_error: 0.0019 - val_loss: 3.8236e-04 - val_mean_squared_error: 3.8236e-04\n",
            "Epoch 21/100\n",
            "11/11 [==============================] - 0s 30ms/step - loss: 0.0019 - mean_squared_error: 0.0019 - val_loss: 4.1416e-04 - val_mean_squared_error: 4.1416e-04\n",
            "Epoch 22/100\n",
            "11/11 [==============================] - 0s 31ms/step - loss: 0.0017 - mean_squared_error: 0.0017 - val_loss: 4.2088e-04 - val_mean_squared_error: 4.2088e-04\n",
            "Epoch 23/100\n",
            "11/11 [==============================] - 0s 31ms/step - loss: 0.0018 - mean_squared_error: 0.0018 - val_loss: 4.2522e-04 - val_mean_squared_error: 4.2522e-04\n",
            "Epoch 24/100\n",
            "11/11 [==============================] - 0s 29ms/step - loss: 0.0018 - mean_squared_error: 0.0018 - val_loss: 4.2027e-04 - val_mean_squared_error: 4.2027e-04\n",
            "Epoch 25/100\n",
            "11/11 [==============================] - 0s 31ms/step - loss: 0.0017 - mean_squared_error: 0.0017 - val_loss: 3.7892e-04 - val_mean_squared_error: 3.7892e-04\n",
            "Epoch 26/100\n",
            "11/11 [==============================] - 0s 33ms/step - loss: 0.0017 - mean_squared_error: 0.0017 - val_loss: 3.7855e-04 - val_mean_squared_error: 3.7855e-04\n",
            "Epoch 27/100\n",
            "11/11 [==============================] - 0s 33ms/step - loss: 0.0016 - mean_squared_error: 0.0016 - val_loss: 4.1124e-04 - val_mean_squared_error: 4.1124e-04\n",
            "Epoch 28/100\n",
            "11/11 [==============================] - 0s 33ms/step - loss: 0.0017 - mean_squared_error: 0.0017 - val_loss: 6.3628e-04 - val_mean_squared_error: 6.3628e-04\n",
            "Epoch 29/100\n",
            "11/11 [==============================] - 0s 32ms/step - loss: 0.0017 - mean_squared_error: 0.0017 - val_loss: 4.0921e-04 - val_mean_squared_error: 4.0921e-04\n",
            "Epoch 30/100\n",
            "11/11 [==============================] - 0s 32ms/step - loss: 0.0015 - mean_squared_error: 0.0015 - val_loss: 3.7801e-04 - val_mean_squared_error: 3.7801e-04\n",
            "Epoch 31/100\n",
            "11/11 [==============================] - 0s 30ms/step - loss: 0.0017 - mean_squared_error: 0.0017 - val_loss: 3.8382e-04 - val_mean_squared_error: 3.8382e-04\n",
            "Epoch 32/100\n",
            "11/11 [==============================] - 0s 17ms/step - loss: 0.0015 - mean_squared_error: 0.0015 - val_loss: 3.9310e-04 - val_mean_squared_error: 3.9310e-04\n",
            "Epoch 33/100\n",
            "11/11 [==============================] - 0s 18ms/step - loss: 0.0016 - mean_squared_error: 0.0016 - val_loss: 3.7599e-04 - val_mean_squared_error: 3.7599e-04\n",
            "Epoch 34/100\n",
            "11/11 [==============================] - 0s 18ms/step - loss: 0.0016 - mean_squared_error: 0.0016 - val_loss: 3.8382e-04 - val_mean_squared_error: 3.8382e-04\n",
            "Epoch 35/100\n",
            "11/11 [==============================] - 0s 17ms/step - loss: 0.0013 - mean_squared_error: 0.0013 - val_loss: 4.2163e-04 - val_mean_squared_error: 4.2163e-04\n",
            "Epoch 36/100\n",
            "11/11 [==============================] - 0s 20ms/step - loss: 0.0016 - mean_squared_error: 0.0016 - val_loss: 5.1870e-04 - val_mean_squared_error: 5.1870e-04\n",
            "Epoch 37/100\n",
            "11/11 [==============================] - 0s 17ms/step - loss: 0.0016 - mean_squared_error: 0.0016 - val_loss: 3.7855e-04 - val_mean_squared_error: 3.7855e-04\n",
            "Epoch 38/100\n",
            "11/11 [==============================] - 0s 18ms/step - loss: 0.0014 - mean_squared_error: 0.0014 - val_loss: 3.7266e-04 - val_mean_squared_error: 3.7266e-04\n",
            "Epoch 39/100\n",
            "11/11 [==============================] - 0s 17ms/step - loss: 0.0014 - mean_squared_error: 0.0014 - val_loss: 5.0751e-04 - val_mean_squared_error: 5.0751e-04\n",
            "Epoch 40/100\n",
            "11/11 [==============================] - 0s 17ms/step - loss: 0.0015 - mean_squared_error: 0.0015 - val_loss: 4.2350e-04 - val_mean_squared_error: 4.2350e-04\n",
            "Epoch 41/100\n",
            "11/11 [==============================] - 0s 20ms/step - loss: 0.0014 - mean_squared_error: 0.0014 - val_loss: 3.7866e-04 - val_mean_squared_error: 3.7866e-04\n",
            "Epoch 42/100\n",
            "11/11 [==============================] - 0s 18ms/step - loss: 0.0013 - mean_squared_error: 0.0013 - val_loss: 3.7217e-04 - val_mean_squared_error: 3.7217e-04\n",
            "Epoch 43/100\n",
            "11/11 [==============================] - 0s 18ms/step - loss: 0.0013 - mean_squared_error: 0.0013 - val_loss: 3.8152e-04 - val_mean_squared_error: 3.8152e-04\n",
            "Epoch 44/100\n",
            "11/11 [==============================] - 0s 17ms/step - loss: 0.0013 - mean_squared_error: 0.0013 - val_loss: 3.7212e-04 - val_mean_squared_error: 3.7212e-04\n",
            "Epoch 45/100\n",
            "11/11 [==============================] - 0s 19ms/step - loss: 0.0015 - mean_squared_error: 0.0015 - val_loss: 4.8791e-04 - val_mean_squared_error: 4.8791e-04\n",
            "Epoch 46/100\n",
            "11/11 [==============================] - 0s 21ms/step - loss: 0.0014 - mean_squared_error: 0.0014 - val_loss: 4.7063e-04 - val_mean_squared_error: 4.7063e-04\n",
            "Epoch 47/100\n",
            "11/11 [==============================] - 0s 19ms/step - loss: 0.0013 - mean_squared_error: 0.0013 - val_loss: 5.5760e-04 - val_mean_squared_error: 5.5760e-04\n",
            "Epoch 48/100\n",
            "11/11 [==============================] - 0s 18ms/step - loss: 0.0014 - mean_squared_error: 0.0014 - val_loss: 3.8741e-04 - val_mean_squared_error: 3.8741e-04\n",
            "Epoch 49/100\n",
            "11/11 [==============================] - 0s 18ms/step - loss: 0.0013 - mean_squared_error: 0.0013 - val_loss: 4.1579e-04 - val_mean_squared_error: 4.1579e-04\n",
            "Epoch 50/100\n",
            "11/11 [==============================] - 0s 17ms/step - loss: 0.0012 - mean_squared_error: 0.0012 - val_loss: 3.7360e-04 - val_mean_squared_error: 3.7360e-04\n",
            "Epoch 51/100\n",
            "11/11 [==============================] - 0s 21ms/step - loss: 0.0012 - mean_squared_error: 0.0012 - val_loss: 3.8283e-04 - val_mean_squared_error: 3.8283e-04\n",
            "Epoch 52/100\n",
            "11/11 [==============================] - 0s 18ms/step - loss: 0.0014 - mean_squared_error: 0.0014 - val_loss: 3.7381e-04 - val_mean_squared_error: 3.7381e-04\n",
            "Epoch 53/100\n",
            "11/11 [==============================] - 0s 18ms/step - loss: 0.0013 - mean_squared_error: 0.0013 - val_loss: 6.8657e-04 - val_mean_squared_error: 6.8657e-04\n",
            "Epoch 54/100\n",
            "11/11 [==============================] - 0s 18ms/step - loss: 0.0016 - mean_squared_error: 0.0016 - val_loss: 3.6909e-04 - val_mean_squared_error: 3.6909e-04\n",
            "Epoch 55/100\n",
            "11/11 [==============================] - 0s 18ms/step - loss: 0.0015 - mean_squared_error: 0.0015 - val_loss: 5.8073e-04 - val_mean_squared_error: 5.8073e-04\n",
            "Epoch 56/100\n",
            "11/11 [==============================] - 0s 22ms/step - loss: 0.0012 - mean_squared_error: 0.0012 - val_loss: 3.8541e-04 - val_mean_squared_error: 3.8541e-04\n",
            "Epoch 57/100\n",
            "11/11 [==============================] - 0s 19ms/step - loss: 0.0011 - mean_squared_error: 0.0011 - val_loss: 4.8611e-04 - val_mean_squared_error: 4.8611e-04\n",
            "Epoch 58/100\n",
            "11/11 [==============================] - 0s 20ms/step - loss: 0.0013 - mean_squared_error: 0.0013 - val_loss: 3.9855e-04 - val_mean_squared_error: 3.9855e-04\n",
            "Epoch 59/100\n",
            "11/11 [==============================] - 0s 19ms/step - loss: 0.0013 - mean_squared_error: 0.0013 - val_loss: 4.7901e-04 - val_mean_squared_error: 4.7901e-04\n",
            "Epoch 60/100\n",
            "11/11 [==============================] - 0s 18ms/step - loss: 0.0012 - mean_squared_error: 0.0012 - val_loss: 3.6646e-04 - val_mean_squared_error: 3.6646e-04\n",
            "Epoch 61/100\n",
            "11/11 [==============================] - 0s 19ms/step - loss: 0.0014 - mean_squared_error: 0.0014 - val_loss: 3.7018e-04 - val_mean_squared_error: 3.7018e-04\n",
            "Epoch 62/100\n",
            "11/11 [==============================] - 0s 18ms/step - loss: 0.0012 - mean_squared_error: 0.0012 - val_loss: 3.6807e-04 - val_mean_squared_error: 3.6807e-04\n",
            "Epoch 63/100\n",
            "11/11 [==============================] - 0s 19ms/step - loss: 0.0012 - mean_squared_error: 0.0012 - val_loss: 4.2677e-04 - val_mean_squared_error: 4.2677e-04\n",
            "Epoch 64/100\n",
            "11/11 [==============================] - 0s 19ms/step - loss: 0.0012 - mean_squared_error: 0.0012 - val_loss: 4.1565e-04 - val_mean_squared_error: 4.1565e-04\n",
            "Epoch 65/100\n",
            "11/11 [==============================] - 0s 19ms/step - loss: 0.0013 - mean_squared_error: 0.0013 - val_loss: 3.9225e-04 - val_mean_squared_error: 3.9225e-04\n",
            "Epoch 66/100\n",
            "11/11 [==============================] - 0s 21ms/step - loss: 0.0011 - mean_squared_error: 0.0011 - val_loss: 3.6964e-04 - val_mean_squared_error: 3.6964e-04\n",
            "Epoch 67/100\n",
            "11/11 [==============================] - 0s 17ms/step - loss: 0.0012 - mean_squared_error: 0.0012 - val_loss: 3.6427e-04 - val_mean_squared_error: 3.6427e-04\n",
            "Epoch 68/100\n",
            "11/11 [==============================] - 0s 18ms/step - loss: 0.0011 - mean_squared_error: 0.0011 - val_loss: 3.7147e-04 - val_mean_squared_error: 3.7147e-04\n",
            "Epoch 69/100\n",
            "11/11 [==============================] - 0s 19ms/step - loss: 0.0013 - mean_squared_error: 0.0013 - val_loss: 3.8411e-04 - val_mean_squared_error: 3.8411e-04\n",
            "Epoch 70/100\n",
            "11/11 [==============================] - 0s 19ms/step - loss: 0.0013 - mean_squared_error: 0.0013 - val_loss: 4.1376e-04 - val_mean_squared_error: 4.1376e-04\n",
            "Epoch 71/100\n",
            "11/11 [==============================] - 0s 21ms/step - loss: 0.0012 - mean_squared_error: 0.0012 - val_loss: 4.1996e-04 - val_mean_squared_error: 4.1996e-04\n",
            "Epoch 72/100\n",
            "11/11 [==============================] - 0s 19ms/step - loss: 0.0011 - mean_squared_error: 0.0011 - val_loss: 3.6562e-04 - val_mean_squared_error: 3.6562e-04\n",
            "Epoch 73/100\n",
            "11/11 [==============================] - 0s 19ms/step - loss: 0.0012 - mean_squared_error: 0.0012 - val_loss: 3.8834e-04 - val_mean_squared_error: 3.8834e-04\n",
            "Epoch 74/100\n",
            "11/11 [==============================] - 0s 18ms/step - loss: 0.0012 - mean_squared_error: 0.0012 - val_loss: 3.7317e-04 - val_mean_squared_error: 3.7317e-04\n",
            "Epoch 75/100\n",
            "11/11 [==============================] - 0s 18ms/step - loss: 0.0010 - mean_squared_error: 0.0010 - val_loss: 3.6148e-04 - val_mean_squared_error: 3.6148e-04\n",
            "Epoch 76/100\n",
            "11/11 [==============================] - 0s 18ms/step - loss: 0.0011 - mean_squared_error: 0.0011 - val_loss: 3.6365e-04 - val_mean_squared_error: 3.6365e-04\n",
            "Epoch 77/100\n",
            "11/11 [==============================] - 0s 19ms/step - loss: 0.0011 - mean_squared_error: 0.0011 - val_loss: 3.6317e-04 - val_mean_squared_error: 3.6317e-04\n",
            "Epoch 78/100\n",
            "11/11 [==============================] - 0s 19ms/step - loss: 0.0012 - mean_squared_error: 0.0012 - val_loss: 5.4024e-04 - val_mean_squared_error: 5.4024e-04\n",
            "Epoch 79/100\n",
            "11/11 [==============================] - 0s 22ms/step - loss: 0.0012 - mean_squared_error: 0.0012 - val_loss: 3.6573e-04 - val_mean_squared_error: 3.6573e-04\n",
            "Epoch 80/100\n",
            "11/11 [==============================] - 0s 32ms/step - loss: 0.0012 - mean_squared_error: 0.0012 - val_loss: 3.7469e-04 - val_mean_squared_error: 3.7469e-04\n",
            "Epoch 81/100\n",
            "11/11 [==============================] - 0s 31ms/step - loss: 0.0011 - mean_squared_error: 0.0011 - val_loss: 3.6451e-04 - val_mean_squared_error: 3.6451e-04\n",
            "Epoch 82/100\n",
            "11/11 [==============================] - 0s 31ms/step - loss: 0.0011 - mean_squared_error: 0.0011 - val_loss: 3.9105e-04 - val_mean_squared_error: 3.9105e-04\n",
            "Epoch 83/100\n",
            "11/11 [==============================] - 0s 30ms/step - loss: 0.0011 - mean_squared_error: 0.0011 - val_loss: 3.6990e-04 - val_mean_squared_error: 3.6990e-04\n",
            "Epoch 84/100\n",
            "11/11 [==============================] - 0s 31ms/step - loss: 0.0010 - mean_squared_error: 0.0010 - val_loss: 4.8432e-04 - val_mean_squared_error: 4.8432e-04\n",
            "Epoch 85/100\n",
            "11/11 [==============================] - 0s 32ms/step - loss: 0.0011 - mean_squared_error: 0.0011 - val_loss: 3.9438e-04 - val_mean_squared_error: 3.9438e-04\n",
            "Epoch 86/100\n",
            "11/11 [==============================] - 0s 32ms/step - loss: 0.0012 - mean_squared_error: 0.0012 - val_loss: 3.8115e-04 - val_mean_squared_error: 3.8115e-04\n",
            "Epoch 87/100\n",
            "11/11 [==============================] - 0s 31ms/step - loss: 0.0011 - mean_squared_error: 0.0011 - val_loss: 3.6355e-04 - val_mean_squared_error: 3.6355e-04\n",
            "Epoch 88/100\n",
            "11/11 [==============================] - 0s 31ms/step - loss: 0.0011 - mean_squared_error: 0.0011 - val_loss: 3.6794e-04 - val_mean_squared_error: 3.6794e-04\n",
            "Epoch 89/100\n",
            "11/11 [==============================] - 0s 34ms/step - loss: 0.0011 - mean_squared_error: 0.0011 - val_loss: 3.9356e-04 - val_mean_squared_error: 3.9356e-04\n",
            "Epoch 90/100\n",
            "11/11 [==============================] - 0s 30ms/step - loss: 0.0011 - mean_squared_error: 0.0011 - val_loss: 5.2343e-04 - val_mean_squared_error: 5.2343e-04\n",
            "Epoch 91/100\n",
            "11/11 [==============================] - 0s 32ms/step - loss: 0.0011 - mean_squared_error: 0.0011 - val_loss: 3.6691e-04 - val_mean_squared_error: 3.6691e-04\n",
            "Epoch 92/100\n",
            "11/11 [==============================] - 0s 37ms/step - loss: 0.0010 - mean_squared_error: 0.0010 - val_loss: 4.0690e-04 - val_mean_squared_error: 4.0690e-04\n",
            "Epoch 93/100\n",
            "11/11 [==============================] - 0s 36ms/step - loss: 0.0012 - mean_squared_error: 0.0012 - val_loss: 3.5798e-04 - val_mean_squared_error: 3.5798e-04\n",
            "Epoch 94/100\n",
            "11/11 [==============================] - 0s 31ms/step - loss: 0.0012 - mean_squared_error: 0.0012 - val_loss: 4.9751e-04 - val_mean_squared_error: 4.9751e-04\n",
            "Epoch 95/100\n",
            "11/11 [==============================] - 0s 29ms/step - loss: 0.0011 - mean_squared_error: 0.0011 - val_loss: 4.0575e-04 - val_mean_squared_error: 4.0575e-04\n",
            "Epoch 96/100\n",
            "11/11 [==============================] - 0s 18ms/step - loss: 0.0010 - mean_squared_error: 0.0010 - val_loss: 3.8295e-04 - val_mean_squared_error: 3.8295e-04\n",
            "Epoch 97/100\n",
            "11/11 [==============================] - 0s 17ms/step - loss: 0.0012 - mean_squared_error: 0.0012 - val_loss: 3.5781e-04 - val_mean_squared_error: 3.5781e-04\n",
            "Epoch 98/100\n",
            "11/11 [==============================] - 0s 19ms/step - loss: 9.7486e-04 - mean_squared_error: 9.7486e-04 - val_loss: 4.2434e-04 - val_mean_squared_error: 4.2434e-04\n",
            "Epoch 99/100\n",
            "11/11 [==============================] - 0s 19ms/step - loss: 0.0011 - mean_squared_error: 0.0011 - val_loss: 4.0824e-04 - val_mean_squared_error: 4.0824e-04\n",
            "Epoch 100/100\n",
            "11/11 [==============================] - 0s 20ms/step - loss: 0.0011 - mean_squared_error: 0.0011 - val_loss: 3.8068e-04 - val_mean_squared_error: 3.8068e-04\n"
          ]
        }
      ]
    },
    {
      "cell_type": "markdown",
      "source": [
        "# 12. Evaluate the Model :"
      ],
      "metadata": {
        "id": "sH0_ThiTFiE9"
      }
    },
    {
      "cell_type": "code",
      "source": [
        "print('Train Score:')\n",
        "print(model.evaluate(train_X, train_Y, verbose=0))\n",
        "\n",
        "print('Validation Score:')\n",
        "print(model.evaluate(val_X, val_Y, verbose=0))"
      ],
      "metadata": {
        "colab": {
          "base_uri": "https://localhost:8080/"
        },
        "id": "rViyc8tQ_Ovh",
        "outputId": "b7070ff1-1d98-4625-98da-a83649a89202"
      },
      "execution_count": 161,
      "outputs": [
        {
          "output_type": "stream",
          "name": "stdout",
          "text": [
            "Train Score:\n",
            "[0.00018636611639522016, 0.00018636611639522016]\n",
            "Validation Score:\n",
            "[0.00038067850982770324, 0.00038067850982770324]\n"
          ]
        }
      ]
    },
    {
      "cell_type": "code",
      "source": [
        "print('Test Score:')\n",
        "print(model.evaluate(test_X, test_Y, verbose=0))"
      ],
      "metadata": {
        "colab": {
          "base_uri": "https://localhost:8080/"
        },
        "id": "LefHBoqP8VtP",
        "outputId": "2ecb8bff-6966-4bde-96fe-6e01dfe06869"
      },
      "execution_count": 162,
      "outputs": [
        {
          "output_type": "stream",
          "name": "stdout",
          "text": [
            "Test Score:\n",
            "[0.0002421656681690365, 0.0002421656681690365]\n"
          ]
        }
      ]
    },
    {
      "cell_type": "code",
      "source": [
        "print(history.history.keys())"
      ],
      "metadata": {
        "colab": {
          "base_uri": "https://localhost:8080/"
        },
        "id": "CyIPxTB78sHX",
        "outputId": "5e806497-339a-4aab-9471-2b693f5baf52"
      },
      "execution_count": 163,
      "outputs": [
        {
          "output_type": "stream",
          "name": "stdout",
          "text": [
            "dict_keys(['loss', 'mean_squared_error', 'val_loss', 'val_mean_squared_error'])\n"
          ]
        }
      ]
    },
    {
      "cell_type": "markdown",
      "source": [
        "# 13. Visualizing Loss vs Epochs :"
      ],
      "metadata": {
        "id": "V_l0XsRLJVV5"
      }
    },
    {
      "cell_type": "code",
      "source": [
        "plt.plot(history.history['loss'])\n",
        "plt.plot(history.history['val_loss'])\n",
        "\n",
        "plt.title('model loss')\n",
        "plt.ylabel('loss')\n",
        "plt.xlabel('epoch')\n",
        "plt.legend(['train', 'val'], loc='upper left')\n",
        "plt.show()"
      ],
      "metadata": {
        "colab": {
          "base_uri": "https://localhost:8080/",
          "height": 472
        },
        "id": "a4pSbAcz9cz6",
        "outputId": "9720cf95-5009-46b2-f61a-5d8f985a8109"
      },
      "execution_count": 164,
      "outputs": [
        {
          "output_type": "display_data",
          "data": {
            "text/plain": [
              "<Figure size 640x480 with 1 Axes>"
            ],
            "image/png": "[encoded data removed]"
          },
          "metadata": {}
        }
      ]
    },
    {
      "cell_type": "markdown",
      "source": [
        "# 14. Visualizing Predictions vs Ground Truths :"
      ],
      "metadata": {
        "id": "f6au1yC5GFAF"
      }
    },
    {
      "cell_type": "code",
      "source": [
        "pred = model.predict(test_X)"
      ],
      "metadata": {
        "colab": {
          "base_uri": "https://localhost:8080/"
        },
        "id": "gfqG4vDR_HfH",
        "outputId": "54add4b7-0067-4515-f28a-a9760771b85d"
      },
      "execution_count": 165,
      "outputs": [
        {
          "output_type": "stream",
          "name": "stdout",
          "text": [
            "6/6 [==============================] - 1s 4ms/step\n"
          ]
        }
      ]
    },
    {
      "cell_type": "code",
      "source": [
        "pred = scaler.inverse_transform(pred)\n",
        "print(pred[:10])"
      ],
      "metadata": {
        "colab": {
          "base_uri": "https://localhost:8080/"
        },
        "id": "qMCySnAeAbVV",
        "outputId": "1aa74504-6849-44e7-bdbb-974d4db18605"
      },
      "execution_count": 166,
      "outputs": [
        {
          "output_type": "stream",
          "name": "stdout",
          "text": [
            "[[37.67271 ]\n",
            " [37.452915]\n",
            " [37.28788 ]\n",
            " [37.14761 ]\n",
            " [36.87298 ]\n",
            " [36.743797]\n",
            " [36.705776]\n",
            " [36.368908]\n",
            " [36.16721 ]\n",
            " [36.725025]]\n"
          ]
        }
      ]
    },
    {
      "cell_type": "code",
      "source": [
        "test_Y_actual = test_Y.reshape(test_Y.shape[0], 1)\n",
        "test_Y_actual = scaler.inverse_transform(test_Y_actual)\n",
        "\n",
        "print(test_Y_actual[:10])"
      ],
      "metadata": {
        "colab": {
          "base_uri": "https://localhost:8080/"
        },
        "id": "DDHE6uZHBnrM",
        "outputId": "65c44ccb-73e0-4271-ac1d-83d36e5aff4e"
      },
      "execution_count": 167,
      "outputs": [
        {
          "output_type": "stream",
          "name": "stdout",
          "text": [
            "[[37.23]\n",
            " [37.11]\n",
            " [36.95]\n",
            " [36.59]\n",
            " [36.6 ]\n",
            " [36.53]\n",
            " [36.01]\n",
            " [36.  ]\n",
            " [36.94]\n",
            " [37.23]]\n"
          ]
        }
      ]
    },
    {
      "cell_type": "code",
      "source": [
        "plt.plot(test_Y_actual, 'b')\n",
        "plt.plot(pred, 'r')\n",
        "\n",
        "plt.xlabel('Time')\n",
        "plt.ylabel('Stock Prices')\n",
        "plt.title('Check the performance of the model with time')\n",
        "plt .legend(['Actual', 'Predicted'], loc='upper left')\n",
        "\n",
        "plt.grid(True)\n",
        "plt.show()"
      ],
      "metadata": {
        "colab": {
          "base_uri": "https://localhost:8080/",
          "height": 472
        },
        "id": "IEvmtdG8CvqO",
        "outputId": "87af0b39-8d8d-403c-9831-ecc4d9536bab"
      },
      "execution_count": 168,
      "outputs": [
        {
          "output_type": "display_data",
          "data": {
            "text/plain": [
              "<Figure size 640x480 with 1 Axes>"
            ],
            "image/png": "[encoded data removed]"
          },
          "metadata": {}
        }
      ]
    }
  ],
  "metadata": {
    "colab": {
      "provenance": []
    },
    "kernelspec": {
      "display_name": "Python 3",
      "name": "python3"
    },
    "language_info": {
      "name": "python"
    }
  },
  "nbformat": 4,
  "nbformat_minor": 0
}